{
 "cells": [
  {
   "cell_type": "markdown",
   "metadata": {},
   "source": [
    "Original: https://www.kaggle.com/code/shubhamsanu/prediction-using-xgboost-with-r2-score-0-88"
   ]
  },
  {
   "cell_type": "code",
   "execution_count": 1,
   "metadata": {
    "_cell_guid": "b1076dfc-b9ad-4769-8c92-a6c4dae69d19",
    "_uuid": "8f2839f25d086af736a60e9eeb907d3b93b6e0e5",
    "execution": {
     "iopub.execute_input": "2021-03-28T14:51:50.173573Z",
     "iopub.status.busy": "2021-03-28T14:51:50.172827Z",
     "iopub.status.idle": "2021-03-28T14:51:50.186917Z",
     "shell.execute_reply": "2021-03-28T14:51:50.186104Z"
    },
    "papermill": {
     "duration": 0.06281,
     "end_time": "2021-03-28T14:51:50.187200",
     "exception": false,
     "start_time": "2021-03-28T14:51:50.124390",
     "status": "completed"
    },
    "tags": []
   },
   "outputs": [
    {
     "name": "stdout",
     "output_type": "stream",
     "text": [
      "/kaggle/input/housesalesprediction/kc_house_data.csv\n"
     ]
    }
   ],
   "source": [
    "# This Python 3 environment comes with many helpful analytics libraries installed\n",
    "# It is defined by the kaggle/python Docker image: https://github.com/kaggle/docker-python\n",
    "# For example, here's several helpful packages to load\n",
    "\n",
    "import numpy as np # linear algebra\n",
    "import pandas as pd # data processing, CSV file I/O (e.g. pd.read_csv)\n",
    "\n",
    "# Input data files are available in the read-only \"../input/\" directory\n",
    "# For example, running this (by clicking run or pressing Shift+Enter) will list all files under the input directory\n",
    "\n",
    "import os\n",
    "for dirname, _, filenames in os.walk('/kaggle/input'):\n",
    "    for filename in filenames:\n",
    "        print(os.path.join(dirname, filename))\n",
    "\n",
    "# You can write up to 20GB to the current directory (/kaggle/working/) that gets preserved as output when you create a version using \"Save & Run All\" \n",
    "# You can also write temporary files to /kaggle/temp/, but they won't be saved outside of the current session"
   ]
  },
  {
   "cell_type": "code",
   "execution_count": 2,
   "metadata": {
    "execution": {
     "iopub.execute_input": "2021-03-28T14:51:50.271065Z",
     "iopub.status.busy": "2021-03-28T14:51:50.270371Z",
     "iopub.status.idle": "2021-03-28T14:51:50.374034Z",
     "shell.execute_reply": "2021-03-28T14:51:50.374557Z"
    },
    "papermill": {
     "duration": 0.147857,
     "end_time": "2021-03-28T14:51:50.374747",
     "exception": false,
     "start_time": "2021-03-28T14:51:50.226890",
     "status": "completed"
    },
    "tags": []
   },
   "outputs": [],
   "source": [
    "data =pd.read_csv(\"../input/housesalesprediction/kc_house_data.csv\")"
   ]
  },
  {
   "cell_type": "code",
   "execution_count": 3,
   "metadata": {
    "execution": {
     "iopub.execute_input": "2021-03-28T14:51:50.455463Z",
     "iopub.status.busy": "2021-03-28T14:51:50.454829Z",
     "iopub.status.idle": "2021-03-28T14:51:50.501762Z",
     "shell.execute_reply": "2021-03-28T14:51:50.502294Z"
    },
    "papermill": {
     "duration": 0.088647,
     "end_time": "2021-03-28T14:51:50.502493",
     "exception": false,
     "start_time": "2021-03-28T14:51:50.413846",
     "status": "completed"
    },
    "tags": []
   },
   "outputs": [
    {
     "data": {
      "text/html": [
       "<div>\n",
       "<style scoped>\n",
       "    .dataframe tbody tr th:only-of-type {\n",
       "        vertical-align: middle;\n",
       "    }\n",
       "\n",
       "    .dataframe tbody tr th {\n",
       "        vertical-align: top;\n",
       "    }\n",
       "\n",
       "    .dataframe thead th {\n",
       "        text-align: right;\n",
       "    }\n",
       "</style>\n",
       "<table border=\"1\" class=\"dataframe\">\n",
       "  <thead>\n",
       "    <tr style=\"text-align: right;\">\n",
       "      <th></th>\n",
       "      <th>id</th>\n",
       "      <th>date</th>\n",
       "      <th>price</th>\n",
       "      <th>bedrooms</th>\n",
       "      <th>bathrooms</th>\n",
       "      <th>sqft_living</th>\n",
       "      <th>sqft_lot</th>\n",
       "      <th>floors</th>\n",
       "      <th>waterfront</th>\n",
       "      <th>view</th>\n",
       "      <th>...</th>\n",
       "      <th>grade</th>\n",
       "      <th>sqft_above</th>\n",
       "      <th>sqft_basement</th>\n",
       "      <th>yr_built</th>\n",
       "      <th>yr_renovated</th>\n",
       "      <th>zipcode</th>\n",
       "      <th>lat</th>\n",
       "      <th>long</th>\n",
       "      <th>sqft_living15</th>\n",
       "      <th>sqft_lot15</th>\n",
       "    </tr>\n",
       "  </thead>\n",
       "  <tbody>\n",
       "    <tr>\n",
       "      <th>0</th>\n",
       "      <td>7129300520</td>\n",
       "      <td>20141013T000000</td>\n",
       "      <td>221900.0</td>\n",
       "      <td>3</td>\n",
       "      <td>1.00</td>\n",
       "      <td>1180</td>\n",
       "      <td>5650</td>\n",
       "      <td>1.0</td>\n",
       "      <td>0</td>\n",
       "      <td>0</td>\n",
       "      <td>...</td>\n",
       "      <td>7</td>\n",
       "      <td>1180</td>\n",
       "      <td>0</td>\n",
       "      <td>1955</td>\n",
       "      <td>0</td>\n",
       "      <td>98178</td>\n",
       "      <td>47.5112</td>\n",
       "      <td>-122.257</td>\n",
       "      <td>1340</td>\n",
       "      <td>5650</td>\n",
       "    </tr>\n",
       "    <tr>\n",
       "      <th>1</th>\n",
       "      <td>6414100192</td>\n",
       "      <td>20141209T000000</td>\n",
       "      <td>538000.0</td>\n",
       "      <td>3</td>\n",
       "      <td>2.25</td>\n",
       "      <td>2570</td>\n",
       "      <td>7242</td>\n",
       "      <td>2.0</td>\n",
       "      <td>0</td>\n",
       "      <td>0</td>\n",
       "      <td>...</td>\n",
       "      <td>7</td>\n",
       "      <td>2170</td>\n",
       "      <td>400</td>\n",
       "      <td>1951</td>\n",
       "      <td>1991</td>\n",
       "      <td>98125</td>\n",
       "      <td>47.7210</td>\n",
       "      <td>-122.319</td>\n",
       "      <td>1690</td>\n",
       "      <td>7639</td>\n",
       "    </tr>\n",
       "    <tr>\n",
       "      <th>2</th>\n",
       "      <td>5631500400</td>\n",
       "      <td>20150225T000000</td>\n",
       "      <td>180000.0</td>\n",
       "      <td>2</td>\n",
       "      <td>1.00</td>\n",
       "      <td>770</td>\n",
       "      <td>10000</td>\n",
       "      <td>1.0</td>\n",
       "      <td>0</td>\n",
       "      <td>0</td>\n",
       "      <td>...</td>\n",
       "      <td>6</td>\n",
       "      <td>770</td>\n",
       "      <td>0</td>\n",
       "      <td>1933</td>\n",
       "      <td>0</td>\n",
       "      <td>98028</td>\n",
       "      <td>47.7379</td>\n",
       "      <td>-122.233</td>\n",
       "      <td>2720</td>\n",
       "      <td>8062</td>\n",
       "    </tr>\n",
       "    <tr>\n",
       "      <th>3</th>\n",
       "      <td>2487200875</td>\n",
       "      <td>20141209T000000</td>\n",
       "      <td>604000.0</td>\n",
       "      <td>4</td>\n",
       "      <td>3.00</td>\n",
       "      <td>1960</td>\n",
       "      <td>5000</td>\n",
       "      <td>1.0</td>\n",
       "      <td>0</td>\n",
       "      <td>0</td>\n",
       "      <td>...</td>\n",
       "      <td>7</td>\n",
       "      <td>1050</td>\n",
       "      <td>910</td>\n",
       "      <td>1965</td>\n",
       "      <td>0</td>\n",
       "      <td>98136</td>\n",
       "      <td>47.5208</td>\n",
       "      <td>-122.393</td>\n",
       "      <td>1360</td>\n",
       "      <td>5000</td>\n",
       "    </tr>\n",
       "    <tr>\n",
       "      <th>4</th>\n",
       "      <td>1954400510</td>\n",
       "      <td>20150218T000000</td>\n",
       "      <td>510000.0</td>\n",
       "      <td>3</td>\n",
       "      <td>2.00</td>\n",
       "      <td>1680</td>\n",
       "      <td>8080</td>\n",
       "      <td>1.0</td>\n",
       "      <td>0</td>\n",
       "      <td>0</td>\n",
       "      <td>...</td>\n",
       "      <td>8</td>\n",
       "      <td>1680</td>\n",
       "      <td>0</td>\n",
       "      <td>1987</td>\n",
       "      <td>0</td>\n",
       "      <td>98074</td>\n",
       "      <td>47.6168</td>\n",
       "      <td>-122.045</td>\n",
       "      <td>1800</td>\n",
       "      <td>7503</td>\n",
       "    </tr>\n",
       "  </tbody>\n",
       "</table>\n",
       "<p>5 rows × 21 columns</p>\n",
       "</div>"
      ],
      "text/plain": [
       "           id             date     price  bedrooms  bathrooms  sqft_living  \\\n",
       "0  7129300520  20141013T000000  221900.0         3       1.00         1180   \n",
       "1  6414100192  20141209T000000  538000.0         3       2.25         2570   \n",
       "2  5631500400  20150225T000000  180000.0         2       1.00          770   \n",
       "3  2487200875  20141209T000000  604000.0         4       3.00         1960   \n",
       "4  1954400510  20150218T000000  510000.0         3       2.00         1680   \n",
       "\n",
       "   sqft_lot  floors  waterfront  view  ...  grade  sqft_above  sqft_basement  \\\n",
       "0      5650     1.0           0     0  ...      7        1180              0   \n",
       "1      7242     2.0           0     0  ...      7        2170            400   \n",
       "2     10000     1.0           0     0  ...      6         770              0   \n",
       "3      5000     1.0           0     0  ...      7        1050            910   \n",
       "4      8080     1.0           0     0  ...      8        1680              0   \n",
       "\n",
       "   yr_built  yr_renovated  zipcode      lat     long  sqft_living15  \\\n",
       "0      1955             0    98178  47.5112 -122.257           1340   \n",
       "1      1951          1991    98125  47.7210 -122.319           1690   \n",
       "2      1933             0    98028  47.7379 -122.233           2720   \n",
       "3      1965             0    98136  47.5208 -122.393           1360   \n",
       "4      1987             0    98074  47.6168 -122.045           1800   \n",
       "\n",
       "   sqft_lot15  \n",
       "0        5650  \n",
       "1        7639  \n",
       "2        8062  \n",
       "3        5000  \n",
       "4        7503  \n",
       "\n",
       "[5 rows x 21 columns]"
      ]
     },
     "execution_count": 3,
     "metadata": {},
     "output_type": "execute_result"
    }
   ],
   "source": [
    "data.head()"
   ]
  },
  {
   "cell_type": "code",
   "execution_count": 4,
   "metadata": {
    "execution": {
     "iopub.execute_input": "2021-03-28T14:51:50.584948Z",
     "iopub.status.busy": "2021-03-28T14:51:50.584224Z",
     "iopub.status.idle": "2021-03-28T14:51:51.665874Z",
     "shell.execute_reply": "2021-03-28T14:51:51.666393Z"
    },
    "papermill": {
     "duration": 1.124511,
     "end_time": "2021-03-28T14:51:51.666588",
     "exception": false,
     "start_time": "2021-03-28T14:51:50.542077",
     "status": "completed"
    },
    "tags": []
   },
   "outputs": [],
   "source": [
    "import numpy as np\n",
    "import pandas as pd\n",
    "import matplotlib.pyplot as plt\n",
    "import seaborn as sns"
   ]
  },
  {
   "cell_type": "code",
   "execution_count": 5,
   "metadata": {
    "execution": {
     "iopub.execute_input": "2021-03-28T14:51:51.749252Z",
     "iopub.status.busy": "2021-03-28T14:51:51.748562Z",
     "iopub.status.idle": "2021-03-28T14:51:51.754281Z",
     "shell.execute_reply": "2021-03-28T14:51:51.753575Z"
    },
    "papermill": {
     "duration": 0.048191,
     "end_time": "2021-03-28T14:51:51.754429",
     "exception": false,
     "start_time": "2021-03-28T14:51:51.706238",
     "status": "completed"
    },
    "tags": []
   },
   "outputs": [],
   "source": [
    "pd.set_option('display.max_columns', None)"
   ]
  },
  {
   "cell_type": "code",
   "execution_count": 6,
   "metadata": {
    "execution": {
     "iopub.execute_input": "2021-03-28T14:51:51.840724Z",
     "iopub.status.busy": "2021-03-28T14:51:51.839709Z",
     "iopub.status.idle": "2021-03-28T14:51:51.844888Z",
     "shell.execute_reply": "2021-03-28T14:51:51.844342Z"
    },
    "papermill": {
     "duration": 0.050681,
     "end_time": "2021-03-28T14:51:51.845030",
     "exception": false,
     "start_time": "2021-03-28T14:51:51.794349",
     "status": "completed"
    },
    "tags": []
   },
   "outputs": [
    {
     "data": {
      "text/plain": [
       "Index(['id', 'date', 'price', 'bedrooms', 'bathrooms', 'sqft_living',\n",
       "       'sqft_lot', 'floors', 'waterfront', 'view', 'condition', 'grade',\n",
       "       'sqft_above', 'sqft_basement', 'yr_built', 'yr_renovated', 'zipcode',\n",
       "       'lat', 'long', 'sqft_living15', 'sqft_lot15'],\n",
       "      dtype='object')"
      ]
     },
     "execution_count": 6,
     "metadata": {},
     "output_type": "execute_result"
    }
   ],
   "source": [
    "data.columns"
   ]
  },
  {
   "cell_type": "code",
   "execution_count": 7,
   "metadata": {
    "execution": {
     "iopub.execute_input": "2021-03-28T14:51:51.942796Z",
     "iopub.status.busy": "2021-03-28T14:51:51.939689Z",
     "iopub.status.idle": "2021-03-28T14:51:51.962541Z",
     "shell.execute_reply": "2021-03-28T14:51:51.961849Z"
    },
    "papermill": {
     "duration": 0.075207,
     "end_time": "2021-03-28T14:51:51.962685",
     "exception": false,
     "start_time": "2021-03-28T14:51:51.887478",
     "status": "completed"
    },
    "tags": []
   },
   "outputs": [
    {
     "name": "stdout",
     "output_type": "stream",
     "text": [
      "<class 'pandas.core.frame.DataFrame'>\n",
      "RangeIndex: 21613 entries, 0 to 21612\n",
      "Data columns (total 21 columns):\n",
      " #   Column         Non-Null Count  Dtype  \n",
      "---  ------         --------------  -----  \n",
      " 0   id             21613 non-null  int64  \n",
      " 1   date           21613 non-null  object \n",
      " 2   price          21613 non-null  float64\n",
      " 3   bedrooms       21613 non-null  int64  \n",
      " 4   bathrooms      21613 non-null  float64\n",
      " 5   sqft_living    21613 non-null  int64  \n",
      " 6   sqft_lot       21613 non-null  int64  \n",
      " 7   floors         21613 non-null  float64\n",
      " 8   waterfront     21613 non-null  int64  \n",
      " 9   view           21613 non-null  int64  \n",
      " 10  condition      21613 non-null  int64  \n",
      " 11  grade          21613 non-null  int64  \n",
      " 12  sqft_above     21613 non-null  int64  \n",
      " 13  sqft_basement  21613 non-null  int64  \n",
      " 14  yr_built       21613 non-null  int64  \n",
      " 15  yr_renovated   21613 non-null  int64  \n",
      " 16  zipcode        21613 non-null  int64  \n",
      " 17  lat            21613 non-null  float64\n",
      " 18  long           21613 non-null  float64\n",
      " 19  sqft_living15  21613 non-null  int64  \n",
      " 20  sqft_lot15     21613 non-null  int64  \n",
      "dtypes: float64(5), int64(15), object(1)\n",
      "memory usage: 3.5+ MB\n"
     ]
    }
   ],
   "source": [
    "data.info() # Yeah, except for date every column is int / float type"
   ]
  },
  {
   "cell_type": "code",
   "execution_count": 8,
   "metadata": {
    "execution": {
     "iopub.execute_input": "2021-03-28T14:51:52.051897Z",
     "iopub.status.busy": "2021-03-28T14:51:52.048245Z",
     "iopub.status.idle": "2021-03-28T14:51:52.060177Z",
     "shell.execute_reply": "2021-03-28T14:51:52.059477Z"
    },
    "papermill": {
     "duration": 0.056978,
     "end_time": "2021-03-28T14:51:52.060345",
     "exception": false,
     "start_time": "2021-03-28T14:51:52.003367",
     "status": "completed"
    },
    "tags": []
   },
   "outputs": [
    {
     "data": {
      "text/plain": [
       "id               0\n",
       "date             0\n",
       "price            0\n",
       "bedrooms         0\n",
       "bathrooms        0\n",
       "sqft_living      0\n",
       "sqft_lot         0\n",
       "floors           0\n",
       "waterfront       0\n",
       "view             0\n",
       "condition        0\n",
       "grade            0\n",
       "sqft_above       0\n",
       "sqft_basement    0\n",
       "yr_built         0\n",
       "yr_renovated     0\n",
       "zipcode          0\n",
       "lat              0\n",
       "long             0\n",
       "sqft_living15    0\n",
       "sqft_lot15       0\n",
       "dtype: int64"
      ]
     },
     "execution_count": 8,
     "metadata": {},
     "output_type": "execute_result"
    }
   ],
   "source": [
    "# Lets first check missing values\n",
    "data.isna().sum() # No missing values, good!!!"
   ]
  },
  {
   "cell_type": "code",
   "execution_count": 9,
   "metadata": {
    "execution": {
     "iopub.execute_input": "2021-03-28T14:51:52.147127Z",
     "iopub.status.busy": "2021-03-28T14:51:52.146356Z",
     "iopub.status.idle": "2021-03-28T14:51:52.149643Z",
     "shell.execute_reply": "2021-03-28T14:51:52.149002Z"
    },
    "papermill": {
     "duration": 0.048081,
     "end_time": "2021-03-28T14:51:52.149793",
     "exception": false,
     "start_time": "2021-03-28T14:51:52.101712",
     "status": "completed"
    },
    "tags": []
   },
   "outputs": [],
   "source": [
    "# Lets look at our target varibale"
   ]
  },
  {
   "cell_type": "code",
   "execution_count": 10,
   "metadata": {
    "execution": {
     "iopub.execute_input": "2021-03-28T14:51:52.236861Z",
     "iopub.status.busy": "2021-03-28T14:51:52.236201Z",
     "iopub.status.idle": "2021-03-28T14:51:52.693470Z",
     "shell.execute_reply": "2021-03-28T14:51:52.692846Z"
    },
    "papermill": {
     "duration": 0.502119,
     "end_time": "2021-03-28T14:51:52.693617",
     "exception": false,
     "start_time": "2021-03-28T14:51:52.191498",
     "status": "completed"
    },
    "tags": []
   },
   "outputs": [
    {
     "name": "stderr",
     "output_type": "stream",
     "text": [
      "/opt/conda/lib/python3.7/site-packages/seaborn/distributions.py:2557: FutureWarning: `distplot` is a deprecated function and will be removed in a future version. Please adapt your code to use either `displot` (a figure-level function with similar flexibility) or `histplot` (an axes-level function for histograms).\n",
      "  warnings.warn(msg, FutureWarning)\n"
     ]
    },
    {
     "data": {
      "text/plain": [
       "<AxesSubplot:xlabel='price', ylabel='Density'>"
      ]
     },
     "execution_count": 10,
     "metadata": {},
     "output_type": "execute_result"
    },
    {
     "data": {
      "image/png": "[encoded data removed]",
      "text/plain": [
       "<Figure size 432x288 with 1 Axes>"
      ]
     },
     "metadata": {
      "needs_background": "light"
     },
     "output_type": "display_data"
    }
   ],
   "source": [
    "sns.distplot(data.price) # seems like there is some outlier and skewed towards right"
   ]
  },
  {
   "cell_type": "code",
   "execution_count": 11,
   "metadata": {
    "execution": {
     "iopub.execute_input": "2021-03-28T14:51:52.786516Z",
     "iopub.status.busy": "2021-03-28T14:51:52.785359Z",
     "iopub.status.idle": "2021-03-28T14:51:53.006523Z",
     "shell.execute_reply": "2021-03-28T14:51:53.005810Z"
    },
    "papermill": {
     "duration": 0.269159,
     "end_time": "2021-03-28T14:51:53.006680",
     "exception": false,
     "start_time": "2021-03-28T14:51:52.737521",
     "status": "completed"
    },
    "tags": []
   },
   "outputs": [
    {
     "name": "stderr",
     "output_type": "stream",
     "text": [
      "/opt/conda/lib/python3.7/site-packages/seaborn/_decorators.py:43: FutureWarning: Pass the following variable as a keyword arg: x. From version 0.12, the only valid positional argument will be `data`, and passing other arguments without an explicit keyword will result in an error or misinterpretation.\n",
      "  FutureWarning\n"
     ]
    },
    {
     "data": {
      "text/plain": [
       "<AxesSubplot:xlabel='price'>"
      ]
     },
     "execution_count": 11,
     "metadata": {},
     "output_type": "execute_result"
    },
    {
     "data": {
      "image/png": "[encoded data removed]",
      "text/plain": [
       "<Figure size 432x288 with 1 Axes>"
      ]
     },
     "metadata": {
      "needs_background": "light"
     },
     "output_type": "display_data"
    }
   ],
   "source": [
    "sns.boxplot(data.price) # Lets drop the value over 1.25"
   ]
  },
  {
   "cell_type": "code",
   "execution_count": 12,
   "metadata": {
    "execution": {
     "iopub.execute_input": "2021-03-28T14:51:53.101438Z",
     "iopub.status.busy": "2021-03-28T14:51:53.100731Z",
     "iopub.status.idle": "2021-03-28T14:51:53.105168Z",
     "shell.execute_reply": "2021-03-28T14:51:53.104511Z"
    },
    "papermill": {
     "duration": 0.05424,
     "end_time": "2021-03-28T14:51:53.105315",
     "exception": false,
     "start_time": "2021-03-28T14:51:53.051075",
     "status": "completed"
    },
    "tags": []
   },
   "outputs": [
    {
     "data": {
      "text/plain": [
       "(21613, 21)"
      ]
     },
     "execution_count": 12,
     "metadata": {},
     "output_type": "execute_result"
    }
   ],
   "source": [
    "data.shape"
   ]
  },
  {
   "cell_type": "code",
   "execution_count": 13,
   "metadata": {
    "execution": {
     "iopub.execute_input": "2021-03-28T14:51:53.216537Z",
     "iopub.status.busy": "2021-03-28T14:51:53.215516Z",
     "iopub.status.idle": "2021-03-28T14:51:53.220318Z",
     "shell.execute_reply": "2021-03-28T14:51:53.219691Z"
    },
    "papermill": {
     "duration": 0.070412,
     "end_time": "2021-03-28T14:51:53.220459",
     "exception": false,
     "start_time": "2021-03-28T14:51:53.150047",
     "status": "completed"
    },
    "tags": []
   },
   "outputs": [
    {
     "data": {
      "text/html": [
       "<div>\n",
       "<style scoped>\n",
       "    .dataframe tbody tr th:only-of-type {\n",
       "        vertical-align: middle;\n",
       "    }\n",
       "\n",
       "    .dataframe tbody tr th {\n",
       "        vertical-align: top;\n",
       "    }\n",
       "\n",
       "    .dataframe thead th {\n",
       "        text-align: right;\n",
       "    }\n",
       "</style>\n",
       "<table border=\"1\" class=\"dataframe\">\n",
       "  <thead>\n",
       "    <tr style=\"text-align: right;\">\n",
       "      <th></th>\n",
       "      <th>id</th>\n",
       "      <th>date</th>\n",
       "      <th>price</th>\n",
       "      <th>bedrooms</th>\n",
       "      <th>bathrooms</th>\n",
       "      <th>sqft_living</th>\n",
       "      <th>sqft_lot</th>\n",
       "      <th>floors</th>\n",
       "      <th>waterfront</th>\n",
       "      <th>view</th>\n",
       "      <th>condition</th>\n",
       "      <th>grade</th>\n",
       "      <th>sqft_above</th>\n",
       "      <th>sqft_basement</th>\n",
       "      <th>yr_built</th>\n",
       "      <th>yr_renovated</th>\n",
       "      <th>zipcode</th>\n",
       "      <th>lat</th>\n",
       "      <th>long</th>\n",
       "      <th>sqft_living15</th>\n",
       "      <th>sqft_lot15</th>\n",
       "    </tr>\n",
       "  </thead>\n",
       "  <tbody>\n",
       "    <tr>\n",
       "      <th>0</th>\n",
       "      <td>7129300520</td>\n",
       "      <td>20141013T000000</td>\n",
       "      <td>221900.0</td>\n",
       "      <td>3</td>\n",
       "      <td>1.00</td>\n",
       "      <td>1180</td>\n",
       "      <td>5650</td>\n",
       "      <td>1.0</td>\n",
       "      <td>0</td>\n",
       "      <td>0</td>\n",
       "      <td>3</td>\n",
       "      <td>7</td>\n",
       "      <td>1180</td>\n",
       "      <td>0</td>\n",
       "      <td>1955</td>\n",
       "      <td>0</td>\n",
       "      <td>98178</td>\n",
       "      <td>47.5112</td>\n",
       "      <td>-122.257</td>\n",
       "      <td>1340</td>\n",
       "      <td>5650</td>\n",
       "    </tr>\n",
       "    <tr>\n",
       "      <th>1</th>\n",
       "      <td>6414100192</td>\n",
       "      <td>20141209T000000</td>\n",
       "      <td>538000.0</td>\n",
       "      <td>3</td>\n",
       "      <td>2.25</td>\n",
       "      <td>2570</td>\n",
       "      <td>7242</td>\n",
       "      <td>2.0</td>\n",
       "      <td>0</td>\n",
       "      <td>0</td>\n",
       "      <td>3</td>\n",
       "      <td>7</td>\n",
       "      <td>2170</td>\n",
       "      <td>400</td>\n",
       "      <td>1951</td>\n",
       "      <td>1991</td>\n",
       "      <td>98125</td>\n",
       "      <td>47.7210</td>\n",
       "      <td>-122.319</td>\n",
       "      <td>1690</td>\n",
       "      <td>7639</td>\n",
       "    </tr>\n",
       "    <tr>\n",
       "      <th>2</th>\n",
       "      <td>5631500400</td>\n",
       "      <td>20150225T000000</td>\n",
       "      <td>180000.0</td>\n",
       "      <td>2</td>\n",
       "      <td>1.00</td>\n",
       "      <td>770</td>\n",
       "      <td>10000</td>\n",
       "      <td>1.0</td>\n",
       "      <td>0</td>\n",
       "      <td>0</td>\n",
       "      <td>3</td>\n",
       "      <td>6</td>\n",
       "      <td>770</td>\n",
       "      <td>0</td>\n",
       "      <td>1933</td>\n",
       "      <td>0</td>\n",
       "      <td>98028</td>\n",
       "      <td>47.7379</td>\n",
       "      <td>-122.233</td>\n",
       "      <td>2720</td>\n",
       "      <td>8062</td>\n",
       "    </tr>\n",
       "    <tr>\n",
       "      <th>3</th>\n",
       "      <td>2487200875</td>\n",
       "      <td>20141209T000000</td>\n",
       "      <td>604000.0</td>\n",
       "      <td>4</td>\n",
       "      <td>3.00</td>\n",
       "      <td>1960</td>\n",
       "      <td>5000</td>\n",
       "      <td>1.0</td>\n",
       "      <td>0</td>\n",
       "      <td>0</td>\n",
       "      <td>5</td>\n",
       "      <td>7</td>\n",
       "      <td>1050</td>\n",
       "      <td>910</td>\n",
       "      <td>1965</td>\n",
       "      <td>0</td>\n",
       "      <td>98136</td>\n",
       "      <td>47.5208</td>\n",
       "      <td>-122.393</td>\n",
       "      <td>1360</td>\n",
       "      <td>5000</td>\n",
       "    </tr>\n",
       "    <tr>\n",
       "      <th>4</th>\n",
       "      <td>1954400510</td>\n",
       "      <td>20150218T000000</td>\n",
       "      <td>510000.0</td>\n",
       "      <td>3</td>\n",
       "      <td>2.00</td>\n",
       "      <td>1680</td>\n",
       "      <td>8080</td>\n",
       "      <td>1.0</td>\n",
       "      <td>0</td>\n",
       "      <td>0</td>\n",
       "      <td>3</td>\n",
       "      <td>8</td>\n",
       "      <td>1680</td>\n",
       "      <td>0</td>\n",
       "      <td>1987</td>\n",
       "      <td>0</td>\n",
       "      <td>98074</td>\n",
       "      <td>47.6168</td>\n",
       "      <td>-122.045</td>\n",
       "      <td>1800</td>\n",
       "      <td>7503</td>\n",
       "    </tr>\n",
       "  </tbody>\n",
       "</table>\n",
       "</div>"
      ],
      "text/plain": [
       "           id             date     price  bedrooms  bathrooms  sqft_living  \\\n",
       "0  7129300520  20141013T000000  221900.0         3       1.00         1180   \n",
       "1  6414100192  20141209T000000  538000.0         3       2.25         2570   \n",
       "2  5631500400  20150225T000000  180000.0         2       1.00          770   \n",
       "3  2487200875  20141209T000000  604000.0         4       3.00         1960   \n",
       "4  1954400510  20150218T000000  510000.0         3       2.00         1680   \n",
       "\n",
       "   sqft_lot  floors  waterfront  view  condition  grade  sqft_above  \\\n",
       "0      5650     1.0           0     0          3      7        1180   \n",
       "1      7242     2.0           0     0          3      7        2170   \n",
       "2     10000     1.0           0     0          3      6         770   \n",
       "3      5000     1.0           0     0          5      7        1050   \n",
       "4      8080     1.0           0     0          3      8        1680   \n",
       "\n",
       "   sqft_basement  yr_built  yr_renovated  zipcode      lat     long  \\\n",
       "0              0      1955             0    98178  47.5112 -122.257   \n",
       "1            400      1951          1991    98125  47.7210 -122.319   \n",
       "2              0      1933             0    98028  47.7379 -122.233   \n",
       "3            910      1965             0    98136  47.5208 -122.393   \n",
       "4              0      1987             0    98074  47.6168 -122.045   \n",
       "\n",
       "   sqft_living15  sqft_lot15  \n",
       "0           1340        5650  \n",
       "1           1690        7639  \n",
       "2           2720        8062  \n",
       "3           1360        5000  \n",
       "4           1800        7503  "
      ]
     },
     "execution_count": 13,
     "metadata": {},
     "output_type": "execute_result"
    }
   ],
   "source": [
    "data.head()"
   ]
  },
  {
   "cell_type": "code",
   "execution_count": 14,
   "metadata": {
    "execution": {
     "iopub.execute_input": "2021-03-28T14:51:53.315117Z",
     "iopub.status.busy": "2021-03-28T14:51:53.314151Z",
     "iopub.status.idle": "2021-03-28T14:51:53.324335Z",
     "shell.execute_reply": "2021-03-28T14:51:53.324788Z"
    },
    "papermill": {
     "duration": 0.059172,
     "end_time": "2021-03-28T14:51:53.324962",
     "exception": false,
     "start_time": "2021-03-28T14:51:53.265790",
     "status": "completed"
    },
    "tags": []
   },
   "outputs": [
    {
     "data": {
      "text/plain": [
       "count    2.161300e+04\n",
       "mean     5.400881e+05\n",
       "std      3.671272e+05\n",
       "min      7.500000e+04\n",
       "25%      3.219500e+05\n",
       "50%      4.500000e+05\n",
       "75%      6.450000e+05\n",
       "max      7.700000e+06\n",
       "Name: price, dtype: float64"
      ]
     },
     "execution_count": 14,
     "metadata": {},
     "output_type": "execute_result"
    }
   ],
   "source": [
    "data.price.describe()"
   ]
  },
  {
   "cell_type": "code",
   "execution_count": 15,
   "metadata": {
    "execution": {
     "iopub.execute_input": "2021-03-28T14:51:53.420135Z",
     "iopub.status.busy": "2021-03-28T14:51:53.419177Z",
     "iopub.status.idle": "2021-03-28T14:51:53.426469Z",
     "shell.execute_reply": "2021-03-28T14:51:53.426907Z"
    },
    "papermill": {
     "duration": 0.056586,
     "end_time": "2021-03-28T14:51:53.427111",
     "exception": false,
     "start_time": "2021-03-28T14:51:53.370525",
     "status": "completed"
    },
    "tags": []
   },
   "outputs": [
    {
     "data": {
      "text/plain": [
       "870"
      ]
     },
     "execution_count": 15,
     "metadata": {},
     "output_type": "execute_result"
    }
   ],
   "source": [
    "(data.price > 1250000).sum()"
   ]
  },
  {
   "cell_type": "code",
   "execution_count": 16,
   "metadata": {
    "execution": {
     "iopub.execute_input": "2021-03-28T14:51:53.523695Z",
     "iopub.status.busy": "2021-03-28T14:51:53.522590Z",
     "iopub.status.idle": "2021-03-28T14:51:53.530063Z",
     "shell.execute_reply": "2021-03-28T14:51:53.530594Z"
    },
    "papermill": {
     "duration": 0.057525,
     "end_time": "2021-03-28T14:51:53.530811",
     "exception": false,
     "start_time": "2021-03-28T14:51:53.473286",
     "status": "completed"
    },
    "tags": []
   },
   "outputs": [],
   "source": [
    "df0 = data.copy()"
   ]
  },
  {
   "cell_type": "code",
   "execution_count": 17,
   "metadata": {
    "execution": {
     "iopub.execute_input": "2021-03-28T14:51:53.627739Z",
     "iopub.status.busy": "2021-03-28T14:51:53.626750Z",
     "iopub.status.idle": "2021-03-28T14:51:53.641196Z",
     "shell.execute_reply": "2021-03-28T14:51:53.640628Z"
    },
    "papermill": {
     "duration": 0.063798,
     "end_time": "2021-03-28T14:51:53.641361",
     "exception": false,
     "start_time": "2021-03-28T14:51:53.577563",
     "status": "completed"
    },
    "tags": []
   },
   "outputs": [],
   "source": [
    "df0 = df0[~(data.price > 1250000)]\n",
    "df0 = df0.reset_index(drop=True)"
   ]
  },
  {
   "cell_type": "code",
   "execution_count": 18,
   "metadata": {
    "execution": {
     "iopub.execute_input": "2021-03-28T14:51:53.739639Z",
     "iopub.status.busy": "2021-03-28T14:51:53.738711Z",
     "iopub.status.idle": "2021-03-28T14:51:53.743492Z",
     "shell.execute_reply": "2021-03-28T14:51:53.743920Z"
    },
    "papermill": {
     "duration": 0.05633,
     "end_time": "2021-03-28T14:51:53.744119",
     "exception": false,
     "start_time": "2021-03-28T14:51:53.687789",
     "status": "completed"
    },
    "tags": []
   },
   "outputs": [
    {
     "data": {
      "text/plain": [
       "(20743, 21)"
      ]
     },
     "execution_count": 18,
     "metadata": {},
     "output_type": "execute_result"
    }
   ],
   "source": [
    "df0.shape"
   ]
  },
  {
   "cell_type": "code",
   "execution_count": 19,
   "metadata": {
    "execution": {
     "iopub.execute_input": "2021-03-28T14:51:53.841685Z",
     "iopub.status.busy": "2021-03-28T14:51:53.840659Z",
     "iopub.status.idle": "2021-03-28T14:51:54.218107Z",
     "shell.execute_reply": "2021-03-28T14:51:54.217501Z"
    },
    "papermill": {
     "duration": 0.427487,
     "end_time": "2021-03-28T14:51:54.218257",
     "exception": false,
     "start_time": "2021-03-28T14:51:53.790770",
     "status": "completed"
    },
    "tags": []
   },
   "outputs": [
    {
     "name": "stderr",
     "output_type": "stream",
     "text": [
      "/opt/conda/lib/python3.7/site-packages/seaborn/distributions.py:2557: FutureWarning: `distplot` is a deprecated function and will be removed in a future version. Please adapt your code to use either `displot` (a figure-level function with similar flexibility) or `histplot` (an axes-level function for histograms).\n",
      "  warnings.warn(msg, FutureWarning)\n"
     ]
    },
    {
     "data": {
      "text/plain": [
       "<AxesSubplot:xlabel='price', ylabel='Density'>"
      ]
     },
     "execution_count": 19,
     "metadata": {},
     "output_type": "execute_result"
    },
    {
     "data": {
      "image/png": "[encoded data removed]",
      "text/plain": [
       "<Figure size 432x288 with 1 Axes>"
      ]
     },
     "metadata": {
      "needs_background": "light"
     },
     "output_type": "display_data"
    }
   ],
   "source": [
    "# Lets again look at distribution plot\n",
    "sns.distplot(df0.price) # Close to normal distribution"
   ]
  },
  {
   "cell_type": "code",
   "execution_count": 20,
   "metadata": {
    "execution": {
     "iopub.execute_input": "2021-03-28T14:51:54.323844Z",
     "iopub.status.busy": "2021-03-28T14:51:54.323156Z",
     "iopub.status.idle": "2021-03-28T14:51:54.326930Z",
     "shell.execute_reply": "2021-03-28T14:51:54.326279Z"
    },
    "papermill": {
     "duration": 0.05994,
     "end_time": "2021-03-28T14:51:54.327100",
     "exception": false,
     "start_time": "2021-03-28T14:51:54.267160",
     "status": "completed"
    },
    "tags": []
   },
   "outputs": [],
   "source": [
    "# Drpping id column\n",
    "df0.drop('id', axis =1, inplace = True)"
   ]
  },
  {
   "cell_type": "code",
   "execution_count": 21,
   "metadata": {
    "execution": {
     "iopub.execute_input": "2021-03-28T14:51:54.436943Z",
     "iopub.status.busy": "2021-03-28T14:51:54.429991Z",
     "iopub.status.idle": "2021-03-28T14:51:54.441671Z",
     "shell.execute_reply": "2021-03-28T14:51:54.440909Z"
    },
    "papermill": {
     "duration": 0.065783,
     "end_time": "2021-03-28T14:51:54.441832",
     "exception": false,
     "start_time": "2021-03-28T14:51:54.376049",
     "status": "completed"
    },
    "tags": []
   },
   "outputs": [
    {
     "data": {
      "text/html": [
       "<div>\n",
       "<style scoped>\n",
       "    .dataframe tbody tr th:only-of-type {\n",
       "        vertical-align: middle;\n",
       "    }\n",
       "\n",
       "    .dataframe tbody tr th {\n",
       "        vertical-align: top;\n",
       "    }\n",
       "\n",
       "    .dataframe thead th {\n",
       "        text-align: right;\n",
       "    }\n",
       "</style>\n",
       "<table border=\"1\" class=\"dataframe\">\n",
       "  <thead>\n",
       "    <tr style=\"text-align: right;\">\n",
       "      <th></th>\n",
       "      <th>date</th>\n",
       "    </tr>\n",
       "  </thead>\n",
       "  <tbody>\n",
       "    <tr>\n",
       "      <th>0</th>\n",
       "      <td>20141013T000000</td>\n",
       "    </tr>\n",
       "    <tr>\n",
       "      <th>1</th>\n",
       "      <td>20141209T000000</td>\n",
       "    </tr>\n",
       "    <tr>\n",
       "      <th>2</th>\n",
       "      <td>20150225T000000</td>\n",
       "    </tr>\n",
       "    <tr>\n",
       "      <th>3</th>\n",
       "      <td>20141209T000000</td>\n",
       "    </tr>\n",
       "    <tr>\n",
       "      <th>4</th>\n",
       "      <td>20150218T000000</td>\n",
       "    </tr>\n",
       "    <tr>\n",
       "      <th>...</th>\n",
       "      <td>...</td>\n",
       "    </tr>\n",
       "    <tr>\n",
       "      <th>20738</th>\n",
       "      <td>20140521T000000</td>\n",
       "    </tr>\n",
       "    <tr>\n",
       "      <th>20739</th>\n",
       "      <td>20150223T000000</td>\n",
       "    </tr>\n",
       "    <tr>\n",
       "      <th>20740</th>\n",
       "      <td>20140623T000000</td>\n",
       "    </tr>\n",
       "    <tr>\n",
       "      <th>20741</th>\n",
       "      <td>20150116T000000</td>\n",
       "    </tr>\n",
       "    <tr>\n",
       "      <th>20742</th>\n",
       "      <td>20141015T000000</td>\n",
       "    </tr>\n",
       "  </tbody>\n",
       "</table>\n",
       "<p>20743 rows × 1 columns</p>\n",
       "</div>"
      ],
      "text/plain": [
       "                  date\n",
       "0      20141013T000000\n",
       "1      20141209T000000\n",
       "2      20150225T000000\n",
       "3      20141209T000000\n",
       "4      20150218T000000\n",
       "...                ...\n",
       "20738  20140521T000000\n",
       "20739  20150223T000000\n",
       "20740  20140623T000000\n",
       "20741  20150116T000000\n",
       "20742  20141015T000000\n",
       "\n",
       "[20743 rows x 1 columns]"
      ]
     },
     "execution_count": 21,
     "metadata": {},
     "output_type": "execute_result"
    }
   ],
   "source": [
    "# Lets solve this date column, it is giving me headache\n",
    "df0[['date']]"
   ]
  },
  {
   "cell_type": "code",
   "execution_count": 22,
   "metadata": {
    "execution": {
     "iopub.execute_input": "2021-03-28T14:51:54.545783Z",
     "iopub.status.busy": "2021-03-28T14:51:54.545079Z",
     "iopub.status.idle": "2021-03-28T14:51:54.548667Z",
     "shell.execute_reply": "2021-03-28T14:51:54.547996Z"
    },
    "papermill": {
     "duration": 0.057472,
     "end_time": "2021-03-28T14:51:54.548809",
     "exception": false,
     "start_time": "2021-03-28T14:51:54.491337",
     "status": "completed"
    },
    "tags": []
   },
   "outputs": [],
   "source": [
    "# Going through the data, date is in yyyymmdd format"
   ]
  },
  {
   "cell_type": "code",
   "execution_count": 23,
   "metadata": {
    "execution": {
     "iopub.execute_input": "2021-03-28T14:51:54.664567Z",
     "iopub.status.busy": "2021-03-28T14:51:54.663842Z",
     "iopub.status.idle": "2021-03-28T14:51:54.667234Z",
     "shell.execute_reply": "2021-03-28T14:51:54.666657Z"
    },
    "papermill": {
     "duration": 0.06819,
     "end_time": "2021-03-28T14:51:54.667386",
     "exception": false,
     "start_time": "2021-03-28T14:51:54.599196",
     "status": "completed"
    },
    "tags": []
   },
   "outputs": [],
   "source": [
    "date_clm1 = pd.Series(v[0:8] for v in df0['date']) "
   ]
  },
  {
   "cell_type": "code",
   "execution_count": 24,
   "metadata": {
    "execution": {
     "iopub.execute_input": "2021-03-28T14:51:54.773150Z",
     "iopub.status.busy": "2021-03-28T14:51:54.772139Z",
     "iopub.status.idle": "2021-03-28T14:51:54.774650Z",
     "shell.execute_reply": "2021-03-28T14:51:54.775110Z"
    },
    "papermill": {
     "duration": 0.058065,
     "end_time": "2021-03-28T14:51:54.775287",
     "exception": false,
     "start_time": "2021-03-28T14:51:54.717222",
     "status": "completed"
    },
    "tags": []
   },
   "outputs": [],
   "source": [
    "df0['Date_new'] = date_clm1"
   ]
  },
  {
   "cell_type": "code",
   "execution_count": 25,
   "metadata": {
    "execution": {
     "iopub.execute_input": "2021-03-28T14:51:54.880582Z",
     "iopub.status.busy": "2021-03-28T14:51:54.879395Z",
     "iopub.status.idle": "2021-03-28T14:51:54.886194Z",
     "shell.execute_reply": "2021-03-28T14:51:54.886680Z"
    },
    "papermill": {
     "duration": 0.060889,
     "end_time": "2021-03-28T14:51:54.886873",
     "exception": false,
     "start_time": "2021-03-28T14:51:54.825984",
     "status": "completed"
    },
    "tags": []
   },
   "outputs": [],
   "source": [
    "df1 = df0.copy()"
   ]
  },
  {
   "cell_type": "code",
   "execution_count": 26,
   "metadata": {
    "execution": {
     "iopub.execute_input": "2021-03-28T14:51:54.993739Z",
     "iopub.status.busy": "2021-03-28T14:51:54.992400Z",
     "iopub.status.idle": "2021-03-28T14:51:55.008185Z",
     "shell.execute_reply": "2021-03-28T14:51:55.007596Z"
    },
    "papermill": {
     "duration": 0.0705,
     "end_time": "2021-03-28T14:51:55.008343",
     "exception": false,
     "start_time": "2021-03-28T14:51:54.937843",
     "status": "completed"
    },
    "tags": []
   },
   "outputs": [
    {
     "data": {
      "text/plain": [
       "date             0\n",
       "price            0\n",
       "bedrooms         0\n",
       "bathrooms        0\n",
       "sqft_living      0\n",
       "sqft_lot         0\n",
       "floors           0\n",
       "waterfront       0\n",
       "view             0\n",
       "condition        0\n",
       "grade            0\n",
       "sqft_above       0\n",
       "sqft_basement    0\n",
       "yr_built         0\n",
       "yr_renovated     0\n",
       "zipcode          0\n",
       "lat              0\n",
       "long             0\n",
       "sqft_living15    0\n",
       "sqft_lot15       0\n",
       "Date_new         0\n",
       "dtype: int64"
      ]
     },
     "execution_count": 26,
     "metadata": {},
     "output_type": "execute_result"
    }
   ],
   "source": [
    "df1.isna().sum()"
   ]
  },
  {
   "cell_type": "code",
   "execution_count": 27,
   "metadata": {
    "execution": {
     "iopub.execute_input": "2021-03-28T14:51:55.120009Z",
     "iopub.status.busy": "2021-03-28T14:51:55.119137Z",
     "iopub.status.idle": "2021-03-28T14:51:55.122620Z",
     "shell.execute_reply": "2021-03-28T14:51:55.123075Z"
    },
    "papermill": {
     "duration": 0.063641,
     "end_time": "2021-03-28T14:51:55.123277",
     "exception": false,
     "start_time": "2021-03-28T14:51:55.059636",
     "status": "completed"
    },
    "tags": []
   },
   "outputs": [],
   "source": [
    "df1.drop('date', axis =1 , inplace = True)"
   ]
  },
  {
   "cell_type": "code",
   "execution_count": 28,
   "metadata": {
    "execution": {
     "iopub.execute_input": "2021-03-28T14:51:55.233929Z",
     "iopub.status.busy": "2021-03-28T14:51:55.233214Z",
     "iopub.status.idle": "2021-03-28T14:51:55.244167Z",
     "shell.execute_reply": "2021-03-28T14:51:55.244722Z"
    },
    "papermill": {
     "duration": 0.070959,
     "end_time": "2021-03-28T14:51:55.244901",
     "exception": false,
     "start_time": "2021-03-28T14:51:55.173942",
     "status": "completed"
    },
    "tags": []
   },
   "outputs": [],
   "source": [
    "# Convert to date object\n",
    "df1['Date'] = pd.to_datetime(df1['Date_new'])"
   ]
  },
  {
   "cell_type": "code",
   "execution_count": 29,
   "metadata": {
    "execution": {
     "iopub.execute_input": "2021-03-28T14:51:55.354003Z",
     "iopub.status.busy": "2021-03-28T14:51:55.353268Z",
     "iopub.status.idle": "2021-03-28T14:51:55.363620Z",
     "shell.execute_reply": "2021-03-28T14:51:55.362883Z"
    },
    "papermill": {
     "duration": 0.067337,
     "end_time": "2021-03-28T14:51:55.363801",
     "exception": false,
     "start_time": "2021-03-28T14:51:55.296464",
     "status": "completed"
    },
    "tags": []
   },
   "outputs": [],
   "source": [
    "df1['year'] = pd.DatetimeIndex(df1['Date']).year\n",
    "df1['month'] = pd.DatetimeIndex(df1['Date']).month"
   ]
  },
  {
   "cell_type": "code",
   "execution_count": 30,
   "metadata": {
    "execution": {
     "iopub.execute_input": "2021-03-28T14:51:55.472897Z",
     "iopub.status.busy": "2021-03-28T14:51:55.471677Z",
     "iopub.status.idle": "2021-03-28T14:51:55.483945Z",
     "shell.execute_reply": "2021-03-28T14:51:55.483363Z"
    },
    "papermill": {
     "duration": 0.069351,
     "end_time": "2021-03-28T14:51:55.484106",
     "exception": false,
     "start_time": "2021-03-28T14:51:55.414755",
     "status": "completed"
    },
    "tags": []
   },
   "outputs": [],
   "source": [
    "# Lets remove Date and Date_new column\n",
    "df1.drop('Date_new', axis =1 , inplace = True)\n",
    "df1.drop('Date', axis =1 , inplace = True)"
   ]
  },
  {
   "cell_type": "code",
   "execution_count": 31,
   "metadata": {
    "execution": {
     "iopub.execute_input": "2021-03-28T14:51:55.609206Z",
     "iopub.status.busy": "2021-03-28T14:51:55.606229Z",
     "iopub.status.idle": "2021-03-28T14:51:55.615250Z",
     "shell.execute_reply": "2021-03-28T14:51:55.614565Z"
    },
    "papermill": {
     "duration": 0.080163,
     "end_time": "2021-03-28T14:51:55.615395",
     "exception": false,
     "start_time": "2021-03-28T14:51:55.535232",
     "status": "completed"
    },
    "tags": []
   },
   "outputs": [
    {
     "data": {
      "text/html": [
       "<div>\n",
       "<style scoped>\n",
       "    .dataframe tbody tr th:only-of-type {\n",
       "        vertical-align: middle;\n",
       "    }\n",
       "\n",
       "    .dataframe tbody tr th {\n",
       "        vertical-align: top;\n",
       "    }\n",
       "\n",
       "    .dataframe thead th {\n",
       "        text-align: right;\n",
       "    }\n",
       "</style>\n",
       "<table border=\"1\" class=\"dataframe\">\n",
       "  <thead>\n",
       "    <tr style=\"text-align: right;\">\n",
       "      <th></th>\n",
       "      <th>price</th>\n",
       "      <th>bedrooms</th>\n",
       "      <th>bathrooms</th>\n",
       "      <th>sqft_living</th>\n",
       "      <th>sqft_lot</th>\n",
       "      <th>floors</th>\n",
       "      <th>waterfront</th>\n",
       "      <th>view</th>\n",
       "      <th>condition</th>\n",
       "      <th>grade</th>\n",
       "      <th>sqft_above</th>\n",
       "      <th>sqft_basement</th>\n",
       "      <th>yr_built</th>\n",
       "      <th>yr_renovated</th>\n",
       "      <th>zipcode</th>\n",
       "      <th>lat</th>\n",
       "      <th>long</th>\n",
       "      <th>sqft_living15</th>\n",
       "      <th>sqft_lot15</th>\n",
       "      <th>year</th>\n",
       "      <th>month</th>\n",
       "    </tr>\n",
       "  </thead>\n",
       "  <tbody>\n",
       "    <tr>\n",
       "      <th>0</th>\n",
       "      <td>221900.0</td>\n",
       "      <td>3</td>\n",
       "      <td>1.00</td>\n",
       "      <td>1180</td>\n",
       "      <td>5650</td>\n",
       "      <td>1.0</td>\n",
       "      <td>0</td>\n",
       "      <td>0</td>\n",
       "      <td>3</td>\n",
       "      <td>7</td>\n",
       "      <td>1180</td>\n",
       "      <td>0</td>\n",
       "      <td>1955</td>\n",
       "      <td>0</td>\n",
       "      <td>98178</td>\n",
       "      <td>47.5112</td>\n",
       "      <td>-122.257</td>\n",
       "      <td>1340</td>\n",
       "      <td>5650</td>\n",
       "      <td>2014</td>\n",
       "      <td>10</td>\n",
       "    </tr>\n",
       "    <tr>\n",
       "      <th>1</th>\n",
       "      <td>538000.0</td>\n",
       "      <td>3</td>\n",
       "      <td>2.25</td>\n",
       "      <td>2570</td>\n",
       "      <td>7242</td>\n",
       "      <td>2.0</td>\n",
       "      <td>0</td>\n",
       "      <td>0</td>\n",
       "      <td>3</td>\n",
       "      <td>7</td>\n",
       "      <td>2170</td>\n",
       "      <td>400</td>\n",
       "      <td>1951</td>\n",
       "      <td>1991</td>\n",
       "      <td>98125</td>\n",
       "      <td>47.7210</td>\n",
       "      <td>-122.319</td>\n",
       "      <td>1690</td>\n",
       "      <td>7639</td>\n",
       "      <td>2014</td>\n",
       "      <td>12</td>\n",
       "    </tr>\n",
       "    <tr>\n",
       "      <th>2</th>\n",
       "      <td>180000.0</td>\n",
       "      <td>2</td>\n",
       "      <td>1.00</td>\n",
       "      <td>770</td>\n",
       "      <td>10000</td>\n",
       "      <td>1.0</td>\n",
       "      <td>0</td>\n",
       "      <td>0</td>\n",
       "      <td>3</td>\n",
       "      <td>6</td>\n",
       "      <td>770</td>\n",
       "      <td>0</td>\n",
       "      <td>1933</td>\n",
       "      <td>0</td>\n",
       "      <td>98028</td>\n",
       "      <td>47.7379</td>\n",
       "      <td>-122.233</td>\n",
       "      <td>2720</td>\n",
       "      <td>8062</td>\n",
       "      <td>2015</td>\n",
       "      <td>2</td>\n",
       "    </tr>\n",
       "    <tr>\n",
       "      <th>3</th>\n",
       "      <td>604000.0</td>\n",
       "      <td>4</td>\n",
       "      <td>3.00</td>\n",
       "      <td>1960</td>\n",
       "      <td>5000</td>\n",
       "      <td>1.0</td>\n",
       "      <td>0</td>\n",
       "      <td>0</td>\n",
       "      <td>5</td>\n",
       "      <td>7</td>\n",
       "      <td>1050</td>\n",
       "      <td>910</td>\n",
       "      <td>1965</td>\n",
       "      <td>0</td>\n",
       "      <td>98136</td>\n",
       "      <td>47.5208</td>\n",
       "      <td>-122.393</td>\n",
       "      <td>1360</td>\n",
       "      <td>5000</td>\n",
       "      <td>2014</td>\n",
       "      <td>12</td>\n",
       "    </tr>\n",
       "    <tr>\n",
       "      <th>4</th>\n",
       "      <td>510000.0</td>\n",
       "      <td>3</td>\n",
       "      <td>2.00</td>\n",
       "      <td>1680</td>\n",
       "      <td>8080</td>\n",
       "      <td>1.0</td>\n",
       "      <td>0</td>\n",
       "      <td>0</td>\n",
       "      <td>3</td>\n",
       "      <td>8</td>\n",
       "      <td>1680</td>\n",
       "      <td>0</td>\n",
       "      <td>1987</td>\n",
       "      <td>0</td>\n",
       "      <td>98074</td>\n",
       "      <td>47.6168</td>\n",
       "      <td>-122.045</td>\n",
       "      <td>1800</td>\n",
       "      <td>7503</td>\n",
       "      <td>2015</td>\n",
       "      <td>2</td>\n",
       "    </tr>\n",
       "  </tbody>\n",
       "</table>\n",
       "</div>"
      ],
      "text/plain": [
       "      price  bedrooms  bathrooms  sqft_living  sqft_lot  floors  waterfront  \\\n",
       "0  221900.0         3       1.00         1180      5650     1.0           0   \n",
       "1  538000.0         3       2.25         2570      7242     2.0           0   \n",
       "2  180000.0         2       1.00          770     10000     1.0           0   \n",
       "3  604000.0         4       3.00         1960      5000     1.0           0   \n",
       "4  510000.0         3       2.00         1680      8080     1.0           0   \n",
       "\n",
       "   view  condition  grade  sqft_above  sqft_basement  yr_built  yr_renovated  \\\n",
       "0     0          3      7        1180              0      1955             0   \n",
       "1     0          3      7        2170            400      1951          1991   \n",
       "2     0          3      6         770              0      1933             0   \n",
       "3     0          5      7        1050            910      1965             0   \n",
       "4     0          3      8        1680              0      1987             0   \n",
       "\n",
       "   zipcode      lat     long  sqft_living15  sqft_lot15  year  month  \n",
       "0    98178  47.5112 -122.257           1340        5650  2014     10  \n",
       "1    98125  47.7210 -122.319           1690        7639  2014     12  \n",
       "2    98028  47.7379 -122.233           2720        8062  2015      2  \n",
       "3    98136  47.5208 -122.393           1360        5000  2014     12  \n",
       "4    98074  47.6168 -122.045           1800        7503  2015      2  "
      ]
     },
     "execution_count": 31,
     "metadata": {},
     "output_type": "execute_result"
    }
   ],
   "source": [
    "df1.head()"
   ]
  },
  {
   "cell_type": "code",
   "execution_count": 32,
   "metadata": {
    "execution": {
     "iopub.execute_input": "2021-03-28T14:51:55.729809Z",
     "iopub.status.busy": "2021-03-28T14:51:55.728957Z",
     "iopub.status.idle": "2021-03-28T14:51:55.734306Z",
     "shell.execute_reply": "2021-03-28T14:51:55.733598Z"
    },
    "papermill": {
     "duration": 0.065757,
     "end_time": "2021-03-28T14:51:55.734478",
     "exception": false,
     "start_time": "2021-03-28T14:51:55.668721",
     "status": "completed"
    },
    "tags": []
   },
   "outputs": [
    {
     "data": {
      "text/plain": [
       "array([2014, 2015])"
      ]
     },
     "execution_count": 32,
     "metadata": {},
     "output_type": "execute_result"
    }
   ],
   "source": [
    "df1.year.unique()"
   ]
  },
  {
   "cell_type": "code",
   "execution_count": 33,
   "metadata": {
    "execution": {
     "iopub.execute_input": "2021-03-28T14:51:55.847016Z",
     "iopub.status.busy": "2021-03-28T14:51:55.845984Z",
     "iopub.status.idle": "2021-03-28T14:51:55.850830Z",
     "shell.execute_reply": "2021-03-28T14:51:55.850283Z"
    },
    "papermill": {
     "duration": 0.063149,
     "end_time": "2021-03-28T14:51:55.850972",
     "exception": false,
     "start_time": "2021-03-28T14:51:55.787823",
     "status": "completed"
    },
    "tags": []
   },
   "outputs": [
    {
     "data": {
      "text/plain": [
       "array([10, 12,  2,  5,  6,  1,  4,  3,  7, 11,  8,  9])"
      ]
     },
     "execution_count": 33,
     "metadata": {},
     "output_type": "execute_result"
    }
   ],
   "source": [
    "df1.month.unique()"
   ]
  },
  {
   "cell_type": "code",
   "execution_count": 34,
   "metadata": {
    "execution": {
     "iopub.execute_input": "2021-03-28T14:51:55.966472Z",
     "iopub.status.busy": "2021-03-28T14:51:55.963365Z",
     "iopub.status.idle": "2021-03-28T14:51:55.971720Z",
     "shell.execute_reply": "2021-03-28T14:51:55.971049Z"
    },
    "papermill": {
     "duration": 0.067035,
     "end_time": "2021-03-28T14:51:55.971875",
     "exception": false,
     "start_time": "2021-03-28T14:51:55.904840",
     "status": "completed"
    },
    "tags": []
   },
   "outputs": [
    {
     "data": {
      "text/plain": [
       "price            0\n",
       "bedrooms         0\n",
       "bathrooms        0\n",
       "sqft_living      0\n",
       "sqft_lot         0\n",
       "floors           0\n",
       "waterfront       0\n",
       "view             0\n",
       "condition        0\n",
       "grade            0\n",
       "sqft_above       0\n",
       "sqft_basement    0\n",
       "yr_built         0\n",
       "yr_renovated     0\n",
       "zipcode          0\n",
       "lat              0\n",
       "long             0\n",
       "sqft_living15    0\n",
       "sqft_lot15       0\n",
       "year             0\n",
       "month            0\n",
       "dtype: int64"
      ]
     },
     "execution_count": 34,
     "metadata": {},
     "output_type": "execute_result"
    }
   ],
   "source": [
    "df1.isna().sum()"
   ]
  },
  {
   "cell_type": "code",
   "execution_count": 35,
   "metadata": {
    "execution": {
     "iopub.execute_input": "2021-03-28T14:51:56.086621Z",
     "iopub.status.busy": "2021-03-28T14:51:56.085857Z",
     "iopub.status.idle": "2021-03-28T14:51:56.088704Z",
     "shell.execute_reply": "2021-03-28T14:51:56.089275Z"
    },
    "papermill": {
     "duration": 0.06403,
     "end_time": "2021-03-28T14:51:56.089455",
     "exception": false,
     "start_time": "2021-03-28T14:51:56.025425",
     "status": "completed"
    },
    "tags": []
   },
   "outputs": [],
   "source": [
    "df2 = df1.copy()"
   ]
  },
  {
   "cell_type": "code",
   "execution_count": 36,
   "metadata": {
    "execution": {
     "iopub.execute_input": "2021-03-28T14:51:56.200763Z",
     "iopub.status.busy": "2021-03-28T14:51:56.200036Z",
     "iopub.status.idle": "2021-03-28T14:51:56.346223Z",
     "shell.execute_reply": "2021-03-28T14:51:56.345437Z"
    },
    "papermill": {
     "duration": 0.202681,
     "end_time": "2021-03-28T14:51:56.346386",
     "exception": false,
     "start_time": "2021-03-28T14:51:56.143705",
     "status": "completed"
    },
    "tags": []
   },
   "outputs": [
    {
     "data": {
      "text/plain": [
       "<AxesSubplot:xlabel='year', ylabel='price'>"
      ]
     },
     "execution_count": 36,
     "metadata": {},
     "output_type": "execute_result"
    },
    {
     "data": {
      "image/png": "[encoded data removed]",
      "text/plain": [
       "<Figure size 432x288 with 1 Axes>"
      ]
     },
     "metadata": {
      "needs_background": "light"
     },
     "output_type": "display_data"
    }
   ],
   "source": [
    "sns.boxplot(data = df2, x = 'year', y = 'price') # Lol, no difference, lets drop it or use to ctreate an ew feature"
   ]
  },
  {
   "cell_type": "code",
   "execution_count": 37,
   "metadata": {
    "execution": {
     "iopub.execute_input": "2021-03-28T14:51:56.462223Z",
     "iopub.status.busy": "2021-03-28T14:51:56.461544Z",
     "iopub.status.idle": "2021-03-28T14:51:56.787320Z",
     "shell.execute_reply": "2021-03-28T14:51:56.786619Z"
    },
    "papermill": {
     "duration": 0.385907,
     "end_time": "2021-03-28T14:51:56.787472",
     "exception": false,
     "start_time": "2021-03-28T14:51:56.401565",
     "status": "completed"
    },
    "tags": []
   },
   "outputs": [
    {
     "data": {
      "text/plain": [
       "<AxesSubplot:xlabel='month', ylabel='price'>"
      ]
     },
     "execution_count": 37,
     "metadata": {},
     "output_type": "execute_result"
    },
    {
     "data": {
      "image/png": "[encoded data removed]",
      "text/plain": [
       "<Figure size 432x288 with 1 Axes>"
      ]
     },
     "metadata": {
      "needs_background": "light"
     },
     "output_type": "display_data"
    }
   ],
   "source": [
    "sns.boxplot(data = df2, x = 'month', y = 'price') # Lol, again, not much difference, lets drop it"
   ]
  },
  {
   "cell_type": "code",
   "execution_count": 38,
   "metadata": {
    "execution": {
     "iopub.execute_input": "2021-03-28T14:51:56.910816Z",
     "iopub.status.busy": "2021-03-28T14:51:56.910058Z",
     "iopub.status.idle": "2021-03-28T14:51:56.913229Z",
     "shell.execute_reply": "2021-03-28T14:51:56.913981Z"
    },
    "papermill": {
     "duration": 0.069585,
     "end_time": "2021-03-28T14:51:56.914207",
     "exception": false,
     "start_time": "2021-03-28T14:51:56.844622",
     "status": "completed"
    },
    "tags": []
   },
   "outputs": [],
   "source": [
    "df2.drop('month', axis =1, inplace = True)"
   ]
  },
  {
   "cell_type": "code",
   "execution_count": 39,
   "metadata": {
    "execution": {
     "iopub.execute_input": "2021-03-28T14:51:57.032975Z",
     "iopub.status.busy": "2021-03-28T14:51:57.032227Z",
     "iopub.status.idle": "2021-03-28T14:51:57.036927Z",
     "shell.execute_reply": "2021-03-28T14:51:57.036360Z"
    },
    "papermill": {
     "duration": 0.06671,
     "end_time": "2021-03-28T14:51:57.037098",
     "exception": false,
     "start_time": "2021-03-28T14:51:56.970388",
     "status": "completed"
    },
    "tags": []
   },
   "outputs": [
    {
     "data": {
      "text/plain": [
       "Index(['price', 'bedrooms', 'bathrooms', 'sqft_living', 'sqft_lot', 'floors',\n",
       "       'waterfront', 'view', 'condition', 'grade', 'sqft_above',\n",
       "       'sqft_basement', 'yr_built', 'yr_renovated', 'zipcode', 'lat', 'long',\n",
       "       'sqft_living15', 'sqft_lot15', 'year'],\n",
       "      dtype='object')"
      ]
     },
     "execution_count": 39,
     "metadata": {},
     "output_type": "execute_result"
    }
   ],
   "source": [
    "df2.columns"
   ]
  },
  {
   "cell_type": "code",
   "execution_count": 40,
   "metadata": {
    "execution": {
     "iopub.execute_input": "2021-03-28T14:51:57.154736Z",
     "iopub.status.busy": "2021-03-28T14:51:57.154039Z",
     "iopub.status.idle": "2021-03-28T14:51:57.175919Z",
     "shell.execute_reply": "2021-03-28T14:51:57.175239Z"
    },
    "papermill": {
     "duration": 0.081238,
     "end_time": "2021-03-28T14:51:57.176069",
     "exception": false,
     "start_time": "2021-03-28T14:51:57.094831",
     "status": "completed"
    },
    "tags": []
   },
   "outputs": [
    {
     "name": "stdout",
     "output_type": "stream",
     "text": [
      "price : 3623\n",
      "bedrooms : 13\n",
      "bathrooms : 27\n",
      "sqft_living : 919\n",
      "sqft_lot : 9398\n",
      "floors : 6\n",
      "waterfront : 2\n",
      "view : 5\n",
      "condition : 5\n",
      "grade : 11\n",
      "sqft_above : 855\n",
      "sqft_basement : 274\n",
      "yr_built : 116\n",
      "yr_renovated : 70\n",
      "zipcode : 70\n",
      "lat : 5024\n",
      "long : 750\n",
      "sqft_living15 : 738\n",
      "sqft_lot15 : 8303\n",
      "year : 2\n"
     ]
    }
   ],
   "source": [
    "for col in df2.columns:\n",
    "    print(col, \":\" ,len(df2[col].unique()))"
   ]
  },
  {
   "cell_type": "code",
   "execution_count": 41,
   "metadata": {
    "execution": {
     "iopub.execute_input": "2021-03-28T14:51:57.296313Z",
     "iopub.status.busy": "2021-03-28T14:51:57.295611Z",
     "iopub.status.idle": "2021-03-28T14:51:57.438731Z",
     "shell.execute_reply": "2021-03-28T14:51:57.437923Z"
    },
    "papermill": {
     "duration": 0.206259,
     "end_time": "2021-03-28T14:51:57.438879",
     "exception": false,
     "start_time": "2021-03-28T14:51:57.232620",
     "status": "completed"
    },
    "tags": []
   },
   "outputs": [
    {
     "data": {
      "text/plain": [
       "<AxesSubplot:xlabel='waterfront', ylabel='price'>"
      ]
     },
     "execution_count": 41,
     "metadata": {},
     "output_type": "execute_result"
    },
    {
     "data": {
      "image/png": "[encoded data removed]",
      "text/plain": [
       "<Figure size 432x288 with 1 Axes>"
      ]
     },
     "metadata": {
      "needs_background": "light"
     },
     "output_type": "display_data"
    }
   ],
   "source": [
    "sns.boxplot(data = df2, x = 'waterfront', y = 'price') # Wow, there is clearly a difference"
   ]
  },
  {
   "cell_type": "code",
   "execution_count": 42,
   "metadata": {
    "execution": {
     "iopub.execute_input": "2021-03-28T14:51:57.561005Z",
     "iopub.status.busy": "2021-03-28T14:51:57.560331Z",
     "iopub.status.idle": "2021-03-28T14:51:57.758069Z",
     "shell.execute_reply": "2021-03-28T14:51:57.757498Z"
    },
    "papermill": {
     "duration": 0.260696,
     "end_time": "2021-03-28T14:51:57.758235",
     "exception": false,
     "start_time": "2021-03-28T14:51:57.497539",
     "status": "completed"
    },
    "tags": []
   },
   "outputs": [
    {
     "data": {
      "text/plain": [
       "<AxesSubplot:xlabel='view', ylabel='price'>"
      ]
     },
     "execution_count": 42,
     "metadata": {},
     "output_type": "execute_result"
    },
    {
     "data": {
      "image/png": "[encoded data removed]",
      "text/plain": [
       "<Figure size 432x288 with 1 Axes>"
      ]
     },
     "metadata": {
      "needs_background": "light"
     },
     "output_type": "display_data"
    }
   ],
   "source": [
    "sns.boxplot(data = df2, x = 'view', y = 'price') # Wow, there is clearly a difference"
   ]
  },
  {
   "cell_type": "code",
   "execution_count": 43,
   "metadata": {
    "execution": {
     "iopub.execute_input": "2021-03-28T14:51:57.882653Z",
     "iopub.status.busy": "2021-03-28T14:51:57.881519Z",
     "iopub.status.idle": "2021-03-28T14:51:58.105264Z",
     "shell.execute_reply": "2021-03-28T14:51:58.104556Z"
    },
    "papermill": {
     "duration": 0.288409,
     "end_time": "2021-03-28T14:51:58.105411",
     "exception": false,
     "start_time": "2021-03-28T14:51:57.817002",
     "status": "completed"
    },
    "tags": []
   },
   "outputs": [
    {
     "data": {
      "text/plain": [
       "<AxesSubplot:xlabel='floors', ylabel='price'>"
      ]
     },
     "execution_count": 43,
     "metadata": {},
     "output_type": "execute_result"
    },
    {
     "data": {
      "image/png": "[encoded data removed]",
      "text/plain": [
       "<Figure size 432x288 with 1 Axes>"
      ]
     },
     "metadata": {
      "needs_background": "light"
     },
     "output_type": "display_data"
    }
   ],
   "source": [
    "sns.boxplot(data = df2, x = 'floors', y = 'price') # We can remove or one hot encode it"
   ]
  },
  {
   "cell_type": "code",
   "execution_count": 44,
   "metadata": {
    "execution": {
     "iopub.execute_input": "2021-03-28T14:51:58.232124Z",
     "iopub.status.busy": "2021-03-28T14:51:58.231428Z",
     "iopub.status.idle": "2021-03-28T14:51:58.431689Z",
     "shell.execute_reply": "2021-03-28T14:51:58.430973Z"
    },
    "papermill": {
     "duration": 0.26593,
     "end_time": "2021-03-28T14:51:58.431841",
     "exception": false,
     "start_time": "2021-03-28T14:51:58.165911",
     "status": "completed"
    },
    "tags": []
   },
   "outputs": [
    {
     "data": {
      "text/plain": [
       "<AxesSubplot:xlabel='condition', ylabel='price'>"
      ]
     },
     "execution_count": 44,
     "metadata": {},
     "output_type": "execute_result"
    },
    {
     "data": {
      "image/png": "[encoded data removed]",
      "text/plain": [
       "<Figure size 432x288 with 1 Axes>"
      ]
     },
     "metadata": {
      "needs_background": "light"
     },
     "output_type": "display_data"
    }
   ],
   "source": [
    "sns.boxplot(data = df2, x = 'condition', y = 'price') # Not a significant diff, lets take a call at last"
   ]
  },
  {
   "cell_type": "code",
   "execution_count": 45,
   "metadata": {
    "execution": {
     "iopub.execute_input": "2021-03-28T14:51:58.560532Z",
     "iopub.status.busy": "2021-03-28T14:51:58.559360Z",
     "iopub.status.idle": "2021-03-28T14:51:58.625796Z",
     "shell.execute_reply": "2021-03-28T14:51:58.625109Z"
    },
    "papermill": {
     "duration": 0.13288,
     "end_time": "2021-03-28T14:51:58.625938",
     "exception": false,
     "start_time": "2021-03-28T14:51:58.493058",
     "status": "completed"
    },
    "tags": []
   },
   "outputs": [
    {
     "data": {
      "text/html": [
       "<div>\n",
       "<style scoped>\n",
       "    .dataframe tbody tr th:only-of-type {\n",
       "        vertical-align: middle;\n",
       "    }\n",
       "\n",
       "    .dataframe tbody tr th {\n",
       "        vertical-align: top;\n",
       "    }\n",
       "\n",
       "    .dataframe thead th {\n",
       "        text-align: right;\n",
       "    }\n",
       "</style>\n",
       "<table border=\"1\" class=\"dataframe\">\n",
       "  <thead>\n",
       "    <tr style=\"text-align: right;\">\n",
       "      <th></th>\n",
       "      <th>price</th>\n",
       "      <th>bedrooms</th>\n",
       "      <th>bathrooms</th>\n",
       "      <th>sqft_living</th>\n",
       "      <th>sqft_lot</th>\n",
       "      <th>floors</th>\n",
       "      <th>waterfront</th>\n",
       "      <th>view</th>\n",
       "      <th>condition</th>\n",
       "      <th>grade</th>\n",
       "      <th>sqft_above</th>\n",
       "      <th>sqft_basement</th>\n",
       "      <th>yr_built</th>\n",
       "      <th>yr_renovated</th>\n",
       "      <th>zipcode</th>\n",
       "      <th>lat</th>\n",
       "      <th>long</th>\n",
       "      <th>sqft_living15</th>\n",
       "      <th>sqft_lot15</th>\n",
       "      <th>year</th>\n",
       "    </tr>\n",
       "  </thead>\n",
       "  <tbody>\n",
       "    <tr>\n",
       "      <th>price</th>\n",
       "      <td>1.000000</td>\n",
       "      <td>0.303677</td>\n",
       "      <td>0.468882</td>\n",
       "      <td>0.638678</td>\n",
       "      <td>0.093441</td>\n",
       "      <td>0.277134</td>\n",
       "      <td>0.070094</td>\n",
       "      <td>0.267828</td>\n",
       "      <td>0.035666</td>\n",
       "      <td>0.647513</td>\n",
       "      <td>0.545378</td>\n",
       "      <td>0.250213</td>\n",
       "      <td>0.062192</td>\n",
       "      <td>0.091878</td>\n",
       "      <td>-0.022373</td>\n",
       "      <td>0.416982</td>\n",
       "      <td>0.066366</td>\n",
       "      <td>0.578996</td>\n",
       "      <td>0.083225</td>\n",
       "      <td>-0.001022</td>\n",
       "    </tr>\n",
       "    <tr>\n",
       "      <th>bedrooms</th>\n",
       "      <td>0.303677</td>\n",
       "      <td>1.000000</td>\n",
       "      <td>0.498663</td>\n",
       "      <td>0.584503</td>\n",
       "      <td>0.026725</td>\n",
       "      <td>0.157201</td>\n",
       "      <td>-0.035235</td>\n",
       "      <td>0.044143</td>\n",
       "      <td>0.025915</td>\n",
       "      <td>0.329367</td>\n",
       "      <td>0.466231</td>\n",
       "      <td>0.287959</td>\n",
       "      <td>0.160283</td>\n",
       "      <td>0.005060</td>\n",
       "      <td>-0.147961</td>\n",
       "      <td>-0.024003</td>\n",
       "      <td>0.137780</td>\n",
       "      <td>0.374446</td>\n",
       "      <td>0.023190</td>\n",
       "      <td>-0.010212</td>\n",
       "    </tr>\n",
       "    <tr>\n",
       "      <th>bathrooms</th>\n",
       "      <td>0.468882</td>\n",
       "      <td>0.498663</td>\n",
       "      <td>1.000000</td>\n",
       "      <td>0.722873</td>\n",
       "      <td>0.068877</td>\n",
       "      <td>0.501070</td>\n",
       "      <td>-0.003787</td>\n",
       "      <td>0.107154</td>\n",
       "      <td>-0.136388</td>\n",
       "      <td>0.622330</td>\n",
       "      <td>0.645526</td>\n",
       "      <td>0.232539</td>\n",
       "      <td>0.538653</td>\n",
       "      <td>0.028184</td>\n",
       "      <td>-0.204970</td>\n",
       "      <td>-0.001208</td>\n",
       "      <td>0.246060</td>\n",
       "      <td>0.535268</td>\n",
       "      <td>0.068678</td>\n",
       "      <td>-0.030223</td>\n",
       "    </tr>\n",
       "    <tr>\n",
       "      <th>sqft_living</th>\n",
       "      <td>0.638678</td>\n",
       "      <td>0.584503</td>\n",
       "      <td>0.722873</td>\n",
       "      <td>1.000000</td>\n",
       "      <td>0.162368</td>\n",
       "      <td>0.343446</td>\n",
       "      <td>0.002601</td>\n",
       "      <td>0.185293</td>\n",
       "      <td>-0.073260</td>\n",
       "      <td>0.717536</td>\n",
       "      <td>0.857432</td>\n",
       "      <td>0.385466</td>\n",
       "      <td>0.351273</td>\n",
       "      <td>0.023423</td>\n",
       "      <td>-0.202942</td>\n",
       "      <td>0.020844</td>\n",
       "      <td>0.282526</td>\n",
       "      <td>0.743084</td>\n",
       "      <td>0.174438</td>\n",
       "      <td>-0.034506</td>\n",
       "    </tr>\n",
       "    <tr>\n",
       "      <th>sqft_lot</th>\n",
       "      <td>0.093441</td>\n",
       "      <td>0.026725</td>\n",
       "      <td>0.068877</td>\n",
       "      <td>0.162368</td>\n",
       "      <td>1.000000</td>\n",
       "      <td>-0.015889</td>\n",
       "      <td>0.024219</td>\n",
       "      <td>0.073389</td>\n",
       "      <td>-0.004077</td>\n",
       "      <td>0.096620</td>\n",
       "      <td>0.167252</td>\n",
       "      <td>0.012322</td>\n",
       "      <td>0.044859</td>\n",
       "      <td>0.010455</td>\n",
       "      <td>-0.130278</td>\n",
       "      <td>-0.093441</td>\n",
       "      <td>0.223601</td>\n",
       "      <td>0.143748</td>\n",
       "      <td>0.711285</td>\n",
       "      <td>-0.000419</td>\n",
       "    </tr>\n",
       "    <tr>\n",
       "      <th>floors</th>\n",
       "      <td>0.277134</td>\n",
       "      <td>0.157201</td>\n",
       "      <td>0.501070</td>\n",
       "      <td>0.343446</td>\n",
       "      <td>-0.015889</td>\n",
       "      <td>1.000000</td>\n",
       "      <td>-0.000869</td>\n",
       "      <td>-0.007756</td>\n",
       "      <td>-0.274874</td>\n",
       "      <td>0.456168</td>\n",
       "      <td>0.528356</td>\n",
       "      <td>-0.286971</td>\n",
       "      <td>0.506752</td>\n",
       "      <td>0.000663</td>\n",
       "      <td>-0.063224</td>\n",
       "      <td>0.039618</td>\n",
       "      <td>0.133670</td>\n",
       "      <td>0.269745</td>\n",
       "      <td>-0.020473</td>\n",
       "      <td>-0.022226</td>\n",
       "    </tr>\n",
       "    <tr>\n",
       "      <th>waterfront</th>\n",
       "      <td>0.070094</td>\n",
       "      <td>-0.035235</td>\n",
       "      <td>-0.003787</td>\n",
       "      <td>0.002601</td>\n",
       "      <td>0.024219</td>\n",
       "      <td>-0.000869</td>\n",
       "      <td>1.000000</td>\n",
       "      <td>0.307366</td>\n",
       "      <td>0.014861</td>\n",
       "      <td>-0.008547</td>\n",
       "      <td>-0.005753</td>\n",
       "      <td>0.015317</td>\n",
       "      <td>-0.041761</td>\n",
       "      <td>0.077436</td>\n",
       "      <td>0.045978</td>\n",
       "      <td>-0.042068</td>\n",
       "      <td>-0.058497</td>\n",
       "      <td>0.010825</td>\n",
       "      <td>0.031587</td>\n",
       "      <td>-0.007362</td>\n",
       "    </tr>\n",
       "    <tr>\n",
       "      <th>view</th>\n",
       "      <td>0.267828</td>\n",
       "      <td>0.044143</td>\n",
       "      <td>0.107154</td>\n",
       "      <td>0.185293</td>\n",
       "      <td>0.073389</td>\n",
       "      <td>-0.007756</td>\n",
       "      <td>0.307366</td>\n",
       "      <td>1.000000</td>\n",
       "      <td>0.035812</td>\n",
       "      <td>0.151314</td>\n",
       "      <td>0.080400</td>\n",
       "      <td>0.212140</td>\n",
       "      <td>-0.065008</td>\n",
       "      <td>0.074936</td>\n",
       "      <td>0.098578</td>\n",
       "      <td>-0.020788</td>\n",
       "      <td>-0.075764</td>\n",
       "      <td>0.203797</td>\n",
       "      <td>0.070757</td>\n",
       "      <td>-0.000263</td>\n",
       "    </tr>\n",
       "    <tr>\n",
       "      <th>condition</th>\n",
       "      <td>0.035666</td>\n",
       "      <td>0.025915</td>\n",
       "      <td>-0.136388</td>\n",
       "      <td>-0.073260</td>\n",
       "      <td>-0.004077</td>\n",
       "      <td>-0.274874</td>\n",
       "      <td>0.014861</td>\n",
       "      <td>0.035812</td>\n",
       "      <td>1.000000</td>\n",
       "      <td>-0.165734</td>\n",
       "      <td>-0.176594</td>\n",
       "      <td>0.175778</td>\n",
       "      <td>-0.354746</td>\n",
       "      <td>-0.058803</td>\n",
       "      <td>-0.004391</td>\n",
       "      <td>-0.017940</td>\n",
       "      <td>-0.101973</td>\n",
       "      <td>-0.115869</td>\n",
       "      <td>0.000430</td>\n",
       "      <td>-0.045407</td>\n",
       "    </tr>\n",
       "    <tr>\n",
       "      <th>grade</th>\n",
       "      <td>0.647513</td>\n",
       "      <td>0.329367</td>\n",
       "      <td>0.622330</td>\n",
       "      <td>0.717536</td>\n",
       "      <td>0.096620</td>\n",
       "      <td>0.456168</td>\n",
       "      <td>-0.008547</td>\n",
       "      <td>0.151314</td>\n",
       "      <td>-0.165734</td>\n",
       "      <td>1.000000</td>\n",
       "      <td>0.718476</td>\n",
       "      <td>0.091471</td>\n",
       "      <td>0.484748</td>\n",
       "      <td>-0.016433</td>\n",
       "      <td>-0.184299</td>\n",
       "      <td>0.092570</td>\n",
       "      <td>0.227943</td>\n",
       "      <td>0.681688</td>\n",
       "      <td>0.104566</td>\n",
       "      <td>-0.037960</td>\n",
       "    </tr>\n",
       "    <tr>\n",
       "      <th>sqft_above</th>\n",
       "      <td>0.545378</td>\n",
       "      <td>0.466231</td>\n",
       "      <td>0.645526</td>\n",
       "      <td>0.857432</td>\n",
       "      <td>0.167252</td>\n",
       "      <td>0.528356</td>\n",
       "      <td>-0.005753</td>\n",
       "      <td>0.080400</td>\n",
       "      <td>-0.176594</td>\n",
       "      <td>0.718476</td>\n",
       "      <td>1.000000</td>\n",
       "      <td>-0.144319</td>\n",
       "      <td>0.457829</td>\n",
       "      <td>-0.000181</td>\n",
       "      <td>-0.268938</td>\n",
       "      <td>-0.034658</td>\n",
       "      <td>0.386164</td>\n",
       "      <td>0.721411</td>\n",
       "      <td>0.178613</td>\n",
       "      <td>-0.028811</td>\n",
       "    </tr>\n",
       "    <tr>\n",
       "      <th>sqft_basement</th>\n",
       "      <td>0.250213</td>\n",
       "      <td>0.287959</td>\n",
       "      <td>0.232539</td>\n",
       "      <td>0.385466</td>\n",
       "      <td>0.012322</td>\n",
       "      <td>-0.286971</td>\n",
       "      <td>0.015317</td>\n",
       "      <td>0.212140</td>\n",
       "      <td>0.175778</td>\n",
       "      <td>0.091471</td>\n",
       "      <td>-0.144319</td>\n",
       "      <td>1.000000</td>\n",
       "      <td>-0.145461</td>\n",
       "      <td>0.045366</td>\n",
       "      <td>0.091990</td>\n",
       "      <td>0.102227</td>\n",
       "      <td>-0.149152</td>\n",
       "      <td>0.135335</td>\n",
       "      <td>0.015160</td>\n",
       "      <td>-0.014690</td>\n",
       "    </tr>\n",
       "    <tr>\n",
       "      <th>yr_built</th>\n",
       "      <td>0.062192</td>\n",
       "      <td>0.160283</td>\n",
       "      <td>0.538653</td>\n",
       "      <td>0.351273</td>\n",
       "      <td>0.044859</td>\n",
       "      <td>0.506752</td>\n",
       "      <td>-0.041761</td>\n",
       "      <td>-0.065008</td>\n",
       "      <td>-0.354746</td>\n",
       "      <td>0.484748</td>\n",
       "      <td>0.457829</td>\n",
       "      <td>-0.145461</td>\n",
       "      <td>1.000000</td>\n",
       "      <td>-0.220856</td>\n",
       "      <td>-0.343839</td>\n",
       "      <td>-0.152733</td>\n",
       "      <td>0.410565</td>\n",
       "      <td>0.357351</td>\n",
       "      <td>0.064763</td>\n",
       "      <td>0.000174</td>\n",
       "    </tr>\n",
       "    <tr>\n",
       "      <th>yr_renovated</th>\n",
       "      <td>0.091878</td>\n",
       "      <td>0.005060</td>\n",
       "      <td>0.028184</td>\n",
       "      <td>0.023423</td>\n",
       "      <td>0.010455</td>\n",
       "      <td>0.000663</td>\n",
       "      <td>0.077436</td>\n",
       "      <td>0.074936</td>\n",
       "      <td>-0.058803</td>\n",
       "      <td>-0.016433</td>\n",
       "      <td>-0.000181</td>\n",
       "      <td>0.045366</td>\n",
       "      <td>-0.220856</td>\n",
       "      <td>1.000000</td>\n",
       "      <td>0.072205</td>\n",
       "      <td>0.022905</td>\n",
       "      <td>-0.064901</td>\n",
       "      <td>-0.037559</td>\n",
       "      <td>0.008845</td>\n",
       "      <td>-0.022810</td>\n",
       "    </tr>\n",
       "    <tr>\n",
       "      <th>zipcode</th>\n",
       "      <td>-0.022373</td>\n",
       "      <td>-0.147961</td>\n",
       "      <td>-0.204970</td>\n",
       "      <td>-0.202942</td>\n",
       "      <td>-0.130278</td>\n",
       "      <td>-0.063224</td>\n",
       "      <td>0.045978</td>\n",
       "      <td>0.098578</td>\n",
       "      <td>-0.004391</td>\n",
       "      <td>-0.184299</td>\n",
       "      <td>-0.268938</td>\n",
       "      <td>0.091990</td>\n",
       "      <td>-0.343839</td>\n",
       "      <td>0.072205</td>\n",
       "      <td>1.000000</td>\n",
       "      <td>0.274880</td>\n",
       "      <td>-0.564297</td>\n",
       "      <td>-0.282945</td>\n",
       "      <td>-0.147854</td>\n",
       "      <td>0.003590</td>\n",
       "    </tr>\n",
       "    <tr>\n",
       "      <th>lat</th>\n",
       "      <td>0.416982</td>\n",
       "      <td>-0.024003</td>\n",
       "      <td>-0.001208</td>\n",
       "      <td>0.020844</td>\n",
       "      <td>-0.093441</td>\n",
       "      <td>0.039618</td>\n",
       "      <td>-0.042068</td>\n",
       "      <td>-0.020788</td>\n",
       "      <td>-0.017940</td>\n",
       "      <td>0.092570</td>\n",
       "      <td>-0.034658</td>\n",
       "      <td>0.102227</td>\n",
       "      <td>-0.152733</td>\n",
       "      <td>0.022905</td>\n",
       "      <td>0.274880</td>\n",
       "      <td>1.000000</td>\n",
       "      <td>-0.132737</td>\n",
       "      <td>0.026748</td>\n",
       "      <td>-0.093969</td>\n",
       "      <td>-0.031203</td>\n",
       "    </tr>\n",
       "    <tr>\n",
       "      <th>long</th>\n",
       "      <td>0.066366</td>\n",
       "      <td>0.137780</td>\n",
       "      <td>0.246060</td>\n",
       "      <td>0.282526</td>\n",
       "      <td>0.223601</td>\n",
       "      <td>0.133670</td>\n",
       "      <td>-0.058497</td>\n",
       "      <td>-0.075764</td>\n",
       "      <td>-0.101973</td>\n",
       "      <td>0.227943</td>\n",
       "      <td>0.386164</td>\n",
       "      <td>-0.149152</td>\n",
       "      <td>0.410565</td>\n",
       "      <td>-0.064901</td>\n",
       "      <td>-0.564297</td>\n",
       "      <td>-0.132737</td>\n",
       "      <td>1.000000</td>\n",
       "      <td>0.368745</td>\n",
       "      <td>0.250597</td>\n",
       "      <td>-0.000953</td>\n",
       "    </tr>\n",
       "    <tr>\n",
       "      <th>sqft_living15</th>\n",
       "      <td>0.578996</td>\n",
       "      <td>0.374446</td>\n",
       "      <td>0.535268</td>\n",
       "      <td>0.743084</td>\n",
       "      <td>0.143748</td>\n",
       "      <td>0.269745</td>\n",
       "      <td>0.010825</td>\n",
       "      <td>0.203797</td>\n",
       "      <td>-0.115869</td>\n",
       "      <td>0.681688</td>\n",
       "      <td>0.721411</td>\n",
       "      <td>0.135335</td>\n",
       "      <td>0.357351</td>\n",
       "      <td>-0.037559</td>\n",
       "      <td>-0.282945</td>\n",
       "      <td>0.026748</td>\n",
       "      <td>0.368745</td>\n",
       "      <td>1.000000</td>\n",
       "      <td>0.180755</td>\n",
       "      <td>-0.027475</td>\n",
       "    </tr>\n",
       "    <tr>\n",
       "      <th>sqft_lot15</th>\n",
       "      <td>0.083225</td>\n",
       "      <td>0.023190</td>\n",
       "      <td>0.068678</td>\n",
       "      <td>0.174438</td>\n",
       "      <td>0.711285</td>\n",
       "      <td>-0.020473</td>\n",
       "      <td>0.031587</td>\n",
       "      <td>0.070757</td>\n",
       "      <td>0.000430</td>\n",
       "      <td>0.104566</td>\n",
       "      <td>0.178613</td>\n",
       "      <td>0.015160</td>\n",
       "      <td>0.064763</td>\n",
       "      <td>0.008845</td>\n",
       "      <td>-0.147854</td>\n",
       "      <td>-0.093969</td>\n",
       "      <td>0.250597</td>\n",
       "      <td>0.180755</td>\n",
       "      <td>1.000000</td>\n",
       "      <td>-0.004220</td>\n",
       "    </tr>\n",
       "    <tr>\n",
       "      <th>year</th>\n",
       "      <td>-0.001022</td>\n",
       "      <td>-0.010212</td>\n",
       "      <td>-0.030223</td>\n",
       "      <td>-0.034506</td>\n",
       "      <td>-0.000419</td>\n",
       "      <td>-0.022226</td>\n",
       "      <td>-0.007362</td>\n",
       "      <td>-0.000263</td>\n",
       "      <td>-0.045407</td>\n",
       "      <td>-0.037960</td>\n",
       "      <td>-0.028811</td>\n",
       "      <td>-0.014690</td>\n",
       "      <td>0.000174</td>\n",
       "      <td>-0.022810</td>\n",
       "      <td>0.003590</td>\n",
       "      <td>-0.031203</td>\n",
       "      <td>-0.000953</td>\n",
       "      <td>-0.027475</td>\n",
       "      <td>-0.004220</td>\n",
       "      <td>1.000000</td>\n",
       "    </tr>\n",
       "  </tbody>\n",
       "</table>\n",
       "</div>"
      ],
      "text/plain": [
       "                  price  bedrooms  bathrooms  sqft_living  sqft_lot    floors  \\\n",
       "price          1.000000  0.303677   0.468882     0.638678  0.093441  0.277134   \n",
       "bedrooms       0.303677  1.000000   0.498663     0.584503  0.026725  0.157201   \n",
       "bathrooms      0.468882  0.498663   1.000000     0.722873  0.068877  0.501070   \n",
       "sqft_living    0.638678  0.584503   0.722873     1.000000  0.162368  0.343446   \n",
       "sqft_lot       0.093441  0.026725   0.068877     0.162368  1.000000 -0.015889   \n",
       "floors         0.277134  0.157201   0.501070     0.343446 -0.015889  1.000000   \n",
       "waterfront     0.070094 -0.035235  -0.003787     0.002601  0.024219 -0.000869   \n",
       "view           0.267828  0.044143   0.107154     0.185293  0.073389 -0.007756   \n",
       "condition      0.035666  0.025915  -0.136388    -0.073260 -0.004077 -0.274874   \n",
       "grade          0.647513  0.329367   0.622330     0.717536  0.096620  0.456168   \n",
       "sqft_above     0.545378  0.466231   0.645526     0.857432  0.167252  0.528356   \n",
       "sqft_basement  0.250213  0.287959   0.232539     0.385466  0.012322 -0.286971   \n",
       "yr_built       0.062192  0.160283   0.538653     0.351273  0.044859  0.506752   \n",
       "yr_renovated   0.091878  0.005060   0.028184     0.023423  0.010455  0.000663   \n",
       "zipcode       -0.022373 -0.147961  -0.204970    -0.202942 -0.130278 -0.063224   \n",
       "lat            0.416982 -0.024003  -0.001208     0.020844 -0.093441  0.039618   \n",
       "long           0.066366  0.137780   0.246060     0.282526  0.223601  0.133670   \n",
       "sqft_living15  0.578996  0.374446   0.535268     0.743084  0.143748  0.269745   \n",
       "sqft_lot15     0.083225  0.023190   0.068678     0.174438  0.711285 -0.020473   \n",
       "year          -0.001022 -0.010212  -0.030223    -0.034506 -0.000419 -0.022226   \n",
       "\n",
       "               waterfront      view  condition     grade  sqft_above  \\\n",
       "price            0.070094  0.267828   0.035666  0.647513    0.545378   \n",
       "bedrooms        -0.035235  0.044143   0.025915  0.329367    0.466231   \n",
       "bathrooms       -0.003787  0.107154  -0.136388  0.622330    0.645526   \n",
       "sqft_living      0.002601  0.185293  -0.073260  0.717536    0.857432   \n",
       "sqft_lot         0.024219  0.073389  -0.004077  0.096620    0.167252   \n",
       "floors          -0.000869 -0.007756  -0.274874  0.456168    0.528356   \n",
       "waterfront       1.000000  0.307366   0.014861 -0.008547   -0.005753   \n",
       "view             0.307366  1.000000   0.035812  0.151314    0.080400   \n",
       "condition        0.014861  0.035812   1.000000 -0.165734   -0.176594   \n",
       "grade           -0.008547  0.151314  -0.165734  1.000000    0.718476   \n",
       "sqft_above      -0.005753  0.080400  -0.176594  0.718476    1.000000   \n",
       "sqft_basement    0.015317  0.212140   0.175778  0.091471   -0.144319   \n",
       "yr_built        -0.041761 -0.065008  -0.354746  0.484748    0.457829   \n",
       "yr_renovated     0.077436  0.074936  -0.058803 -0.016433   -0.000181   \n",
       "zipcode          0.045978  0.098578  -0.004391 -0.184299   -0.268938   \n",
       "lat             -0.042068 -0.020788  -0.017940  0.092570   -0.034658   \n",
       "long            -0.058497 -0.075764  -0.101973  0.227943    0.386164   \n",
       "sqft_living15    0.010825  0.203797  -0.115869  0.681688    0.721411   \n",
       "sqft_lot15       0.031587  0.070757   0.000430  0.104566    0.178613   \n",
       "year            -0.007362 -0.000263  -0.045407 -0.037960   -0.028811   \n",
       "\n",
       "               sqft_basement  yr_built  yr_renovated   zipcode       lat  \\\n",
       "price               0.250213  0.062192      0.091878 -0.022373  0.416982   \n",
       "bedrooms            0.287959  0.160283      0.005060 -0.147961 -0.024003   \n",
       "bathrooms           0.232539  0.538653      0.028184 -0.204970 -0.001208   \n",
       "sqft_living         0.385466  0.351273      0.023423 -0.202942  0.020844   \n",
       "sqft_lot            0.012322  0.044859      0.010455 -0.130278 -0.093441   \n",
       "floors             -0.286971  0.506752      0.000663 -0.063224  0.039618   \n",
       "waterfront          0.015317 -0.041761      0.077436  0.045978 -0.042068   \n",
       "view                0.212140 -0.065008      0.074936  0.098578 -0.020788   \n",
       "condition           0.175778 -0.354746     -0.058803 -0.004391 -0.017940   \n",
       "grade               0.091471  0.484748     -0.016433 -0.184299  0.092570   \n",
       "sqft_above         -0.144319  0.457829     -0.000181 -0.268938 -0.034658   \n",
       "sqft_basement       1.000000 -0.145461      0.045366  0.091990  0.102227   \n",
       "yr_built           -0.145461  1.000000     -0.220856 -0.343839 -0.152733   \n",
       "yr_renovated        0.045366 -0.220856      1.000000  0.072205  0.022905   \n",
       "zipcode             0.091990 -0.343839      0.072205  1.000000  0.274880   \n",
       "lat                 0.102227 -0.152733      0.022905  0.274880  1.000000   \n",
       "long               -0.149152  0.410565     -0.064901 -0.564297 -0.132737   \n",
       "sqft_living15       0.135335  0.357351     -0.037559 -0.282945  0.026748   \n",
       "sqft_lot15          0.015160  0.064763      0.008845 -0.147854 -0.093969   \n",
       "year               -0.014690  0.000174     -0.022810  0.003590 -0.031203   \n",
       "\n",
       "                   long  sqft_living15  sqft_lot15      year  \n",
       "price          0.066366       0.578996    0.083225 -0.001022  \n",
       "bedrooms       0.137780       0.374446    0.023190 -0.010212  \n",
       "bathrooms      0.246060       0.535268    0.068678 -0.030223  \n",
       "sqft_living    0.282526       0.743084    0.174438 -0.034506  \n",
       "sqft_lot       0.223601       0.143748    0.711285 -0.000419  \n",
       "floors         0.133670       0.269745   -0.020473 -0.022226  \n",
       "waterfront    -0.058497       0.010825    0.031587 -0.007362  \n",
       "view          -0.075764       0.203797    0.070757 -0.000263  \n",
       "condition     -0.101973      -0.115869    0.000430 -0.045407  \n",
       "grade          0.227943       0.681688    0.104566 -0.037960  \n",
       "sqft_above     0.386164       0.721411    0.178613 -0.028811  \n",
       "sqft_basement -0.149152       0.135335    0.015160 -0.014690  \n",
       "yr_built       0.410565       0.357351    0.064763  0.000174  \n",
       "yr_renovated  -0.064901      -0.037559    0.008845 -0.022810  \n",
       "zipcode       -0.564297      -0.282945   -0.147854  0.003590  \n",
       "lat           -0.132737       0.026748   -0.093969 -0.031203  \n",
       "long           1.000000       0.368745    0.250597 -0.000953  \n",
       "sqft_living15  0.368745       1.000000    0.180755 -0.027475  \n",
       "sqft_lot15     0.250597       0.180755    1.000000 -0.004220  \n",
       "year          -0.000953      -0.027475   -0.004220  1.000000  "
      ]
     },
     "execution_count": 45,
     "metadata": {},
     "output_type": "execute_result"
    }
   ],
   "source": [
    "corrmat = df2.corr()\n",
    "corrmat"
   ]
  },
  {
   "cell_type": "code",
   "execution_count": 46,
   "metadata": {
    "execution": {
     "iopub.execute_input": "2021-03-28T14:51:58.783103Z",
     "iopub.status.busy": "2021-03-28T14:51:58.781983Z",
     "iopub.status.idle": "2021-03-28T14:52:01.503943Z",
     "shell.execute_reply": "2021-03-28T14:52:01.504592Z"
    },
    "papermill": {
     "duration": 2.816297,
     "end_time": "2021-03-28T14:52:01.504787",
     "exception": false,
     "start_time": "2021-03-28T14:51:58.688490",
     "status": "completed"
    },
    "tags": []
   },
   "outputs": [
    {
     "data": {
      "text/plain": [
       "<AxesSubplot:>"
      ]
     },
     "execution_count": 46,
     "metadata": {},
     "output_type": "execute_result"
    },
    {
     "data": {
      "image/png": "[encoded data removed]",
      "text/plain": [
       "<Figure size 1296x720 with 2 Axes>"
      ]
     },
     "metadata": {
      "needs_background": "light"
     },
     "output_type": "display_data"
    }
   ],
   "source": [
    "fig, ax = plt.subplots(figsize=(18,10))\n",
    "sns.heatmap(corrmat.abs(), annot = True)"
   ]
  },
  {
   "cell_type": "code",
   "execution_count": 47,
   "metadata": {
    "execution": {
     "iopub.execute_input": "2021-03-28T14:52:01.650384Z",
     "iopub.status.busy": "2021-03-28T14:52:01.649565Z",
     "iopub.status.idle": "2021-03-28T14:52:01.654130Z",
     "shell.execute_reply": "2021-03-28T14:52:01.653497Z"
    },
    "papermill": {
     "duration": 0.079093,
     "end_time": "2021-03-28T14:52:01.654300",
     "exception": false,
     "start_time": "2021-03-28T14:52:01.575207",
     "status": "completed"
    },
    "tags": []
   },
   "outputs": [],
   "source": [
    "df3 = df2.copy()"
   ]
  },
  {
   "cell_type": "code",
   "execution_count": 48,
   "metadata": {
    "execution": {
     "iopub.execute_input": "2021-03-28T14:52:01.798459Z",
     "iopub.status.busy": "2021-03-28T14:52:01.797296Z",
     "iopub.status.idle": "2021-03-28T14:52:01.804275Z",
     "shell.execute_reply": "2021-03-28T14:52:01.803703Z"
    },
    "papermill": {
     "duration": 0.080758,
     "end_time": "2021-03-28T14:52:01.804427",
     "exception": false,
     "start_time": "2021-03-28T14:52:01.723669",
     "status": "completed"
    },
    "tags": []
   },
   "outputs": [],
   "source": [
    "df3 = df2.copy()"
   ]
  },
  {
   "cell_type": "code",
   "execution_count": 49,
   "metadata": {
    "execution": {
     "iopub.execute_input": "2021-03-28T14:52:01.951852Z",
     "iopub.status.busy": "2021-03-28T14:52:01.951071Z",
     "iopub.status.idle": "2021-03-28T14:52:02.163395Z",
     "shell.execute_reply": "2021-03-28T14:52:02.162500Z"
    },
    "papermill": {
     "duration": 0.289251,
     "end_time": "2021-03-28T14:52:02.163559",
     "exception": false,
     "start_time": "2021-03-28T14:52:01.874308",
     "status": "completed"
    },
    "tags": []
   },
   "outputs": [],
   "source": [
    "from sklearn.preprocessing import StandardScaler"
   ]
  },
  {
   "cell_type": "code",
   "execution_count": 50,
   "metadata": {
    "execution": {
     "iopub.execute_input": "2021-03-28T14:52:02.311349Z",
     "iopub.status.busy": "2021-03-28T14:52:02.310688Z",
     "iopub.status.idle": "2021-03-28T14:52:02.313160Z",
     "shell.execute_reply": "2021-03-28T14:52:02.313645Z"
    },
    "papermill": {
     "duration": 0.078662,
     "end_time": "2021-03-28T14:52:02.313839",
     "exception": false,
     "start_time": "2021-03-28T14:52:02.235177",
     "status": "completed"
    },
    "tags": []
   },
   "outputs": [],
   "source": [
    "X = df3.drop('price', axis = 1)\n",
    "y = df3['price']"
   ]
  },
  {
   "cell_type": "code",
   "execution_count": 51,
   "metadata": {
    "execution": {
     "iopub.execute_input": "2021-03-28T14:52:02.455393Z",
     "iopub.status.busy": "2021-03-28T14:52:02.454673Z",
     "iopub.status.idle": "2021-03-28T14:52:02.458381Z",
     "shell.execute_reply": "2021-03-28T14:52:02.458933Z"
    },
    "papermill": {
     "duration": 0.076192,
     "end_time": "2021-03-28T14:52:02.459130",
     "exception": false,
     "start_time": "2021-03-28T14:52:02.382938",
     "status": "completed"
    },
    "tags": []
   },
   "outputs": [],
   "source": [
    "scaler = StandardScaler()"
   ]
  },
  {
   "cell_type": "code",
   "execution_count": 52,
   "metadata": {
    "execution": {
     "iopub.execute_input": "2021-03-28T14:52:02.600398Z",
     "iopub.status.busy": "2021-03-28T14:52:02.599716Z",
     "iopub.status.idle": "2021-03-28T14:52:02.626347Z",
     "shell.execute_reply": "2021-03-28T14:52:02.625696Z"
    },
    "papermill": {
     "duration": 0.098082,
     "end_time": "2021-03-28T14:52:02.626510",
     "exception": false,
     "start_time": "2021-03-28T14:52:02.528428",
     "status": "completed"
    },
    "tags": []
   },
   "outputs": [
    {
     "data": {
      "text/plain": [
       "array([[-0.36959179, -1.47806312, -1.02333333, ..., -0.94615555,\n",
       "        -0.25829499, -0.68943459],\n",
       "       [-0.36959179,  0.25915475,  0.72038531, ..., -0.39129485,\n",
       "        -0.18338421, -0.68943459],\n",
       "       [-1.46121112, -1.47806312, -1.5376676 , ...,  1.24158091,\n",
       "        -0.16745295,  1.45046392],\n",
       "       ...,\n",
       "       [-1.46121112, -1.82550669, -1.22404914, ..., -1.45345676,\n",
       "        -0.39549961, -0.68943459],\n",
       "       [-0.36959179,  0.60659832, -0.49645432, ..., -0.83518341,\n",
       "        -0.42261664,  1.45046392],\n",
       "       [-1.46121112, -1.82550669, -1.22404914, ..., -1.45345676,\n",
       "        -0.41998026, -0.68943459]])"
      ]
     },
     "execution_count": 52,
     "metadata": {},
     "output_type": "execute_result"
    }
   ],
   "source": [
    "X_s = scaler.fit_transform(X)\n",
    "X_s"
   ]
  },
  {
   "cell_type": "code",
   "execution_count": 53,
   "metadata": {
    "execution": {
     "iopub.execute_input": "2021-03-28T14:52:02.772378Z",
     "iopub.status.busy": "2021-03-28T14:52:02.771669Z",
     "iopub.status.idle": "2021-03-28T14:52:02.847909Z",
     "shell.execute_reply": "2021-03-28T14:52:02.847357Z"
    },
    "papermill": {
     "duration": 0.151425,
     "end_time": "2021-03-28T14:52:02.848069",
     "exception": false,
     "start_time": "2021-03-28T14:52:02.696644",
     "status": "completed"
    },
    "tags": []
   },
   "outputs": [],
   "source": [
    "from sklearn.model_selection import train_test_split"
   ]
  },
  {
   "cell_type": "code",
   "execution_count": 54,
   "metadata": {
    "execution": {
     "iopub.execute_input": "2021-03-28T14:52:02.997634Z",
     "iopub.status.busy": "2021-03-28T14:52:02.996901Z",
     "iopub.status.idle": "2021-03-28T14:52:03.005116Z",
     "shell.execute_reply": "2021-03-28T14:52:03.004538Z"
    },
    "papermill": {
     "duration": 0.085092,
     "end_time": "2021-03-28T14:52:03.005280",
     "exception": false,
     "start_time": "2021-03-28T14:52:02.920188",
     "status": "completed"
    },
    "tags": []
   },
   "outputs": [],
   "source": [
    "X1_train, X1_test, y_train, y_test = train_test_split(X_s,y, test_size =0.3)"
   ]
  },
  {
   "cell_type": "code",
   "execution_count": 55,
   "metadata": {
    "execution": {
     "iopub.execute_input": "2021-03-28T14:52:03.151050Z",
     "iopub.status.busy": "2021-03-28T14:52:03.150412Z",
     "iopub.status.idle": "2021-03-28T14:52:03.281799Z",
     "shell.execute_reply": "2021-03-28T14:52:03.281195Z"
    },
    "papermill": {
     "duration": 0.206519,
     "end_time": "2021-03-28T14:52:03.281946",
     "exception": false,
     "start_time": "2021-03-28T14:52:03.075427",
     "status": "completed"
    },
    "tags": []
   },
   "outputs": [],
   "source": [
    "from sklearn.linear_model import LinearRegression\n",
    "from sklearn.metrics import mean_absolute_error, mean_squared_error"
   ]
  },
  {
   "cell_type": "code",
   "execution_count": 56,
   "metadata": {
    "execution": {
     "iopub.execute_input": "2021-03-28T14:52:03.427291Z",
     "iopub.status.busy": "2021-03-28T14:52:03.426559Z",
     "iopub.status.idle": "2021-03-28T14:52:03.465989Z",
     "shell.execute_reply": "2021-03-28T14:52:03.466993Z"
    },
    "papermill": {
     "duration": 0.115127,
     "end_time": "2021-03-28T14:52:03.467298",
     "exception": false,
     "start_time": "2021-03-28T14:52:03.352171",
     "status": "completed"
    },
    "tags": []
   },
   "outputs": [
    {
     "data": {
      "text/plain": [
       "LinearRegression()"
      ]
     },
     "execution_count": 56,
     "metadata": {},
     "output_type": "execute_result"
    }
   ],
   "source": [
    "model = LinearRegression()\n",
    "model.fit(X1_train,y_train)"
   ]
  },
  {
   "cell_type": "code",
   "execution_count": 57,
   "metadata": {
    "execution": {
     "iopub.execute_input": "2021-03-28T14:52:03.660522Z",
     "iopub.status.busy": "2021-03-28T14:52:03.659501Z",
     "iopub.status.idle": "2021-03-28T14:52:03.661968Z",
     "shell.execute_reply": "2021-03-28T14:52:03.662666Z"
    },
    "papermill": {
     "duration": 0.078704,
     "end_time": "2021-03-28T14:52:03.662853",
     "exception": false,
     "start_time": "2021-03-28T14:52:03.584149",
     "status": "completed"
    },
    "tags": []
   },
   "outputs": [],
   "source": [
    "y_predict = model.predict(X1_test)"
   ]
  },
  {
   "cell_type": "code",
   "execution_count": 58,
   "metadata": {
    "execution": {
     "iopub.execute_input": "2021-03-28T14:52:03.809570Z",
     "iopub.status.busy": "2021-03-28T14:52:03.808798Z",
     "iopub.status.idle": "2021-03-28T14:52:03.812444Z",
     "shell.execute_reply": "2021-03-28T14:52:03.812896Z"
    },
    "papermill": {
     "duration": 0.078712,
     "end_time": "2021-03-28T14:52:03.813210",
     "exception": false,
     "start_time": "2021-03-28T14:52:03.734498",
     "status": "completed"
    },
    "tags": []
   },
   "outputs": [],
   "source": [
    "from sklearn.metrics import r2_score"
   ]
  },
  {
   "cell_type": "code",
   "execution_count": 59,
   "metadata": {
    "execution": {
     "iopub.execute_input": "2021-03-28T14:52:03.963463Z",
     "iopub.status.busy": "2021-03-28T14:52:03.962774Z",
     "iopub.status.idle": "2021-03-28T14:52:03.969516Z",
     "shell.execute_reply": "2021-03-28T14:52:03.968810Z"
    },
    "papermill": {
     "duration": 0.084135,
     "end_time": "2021-03-28T14:52:03.969667",
     "exception": false,
     "start_time": "2021-03-28T14:52:03.885532",
     "status": "completed"
    },
    "tags": []
   },
   "outputs": [
    {
     "data": {
      "text/plain": [
       "0.7048827553021412"
      ]
     },
     "execution_count": 59,
     "metadata": {},
     "output_type": "execute_result"
    }
   ],
   "source": [
    "score = r2_score(y_test,y_predict)\n",
    "score"
   ]
  },
  {
   "cell_type": "code",
   "execution_count": 60,
   "metadata": {
    "execution": {
     "iopub.execute_input": "2021-03-28T14:52:04.120078Z",
     "iopub.status.busy": "2021-03-28T14:52:04.119253Z",
     "iopub.status.idle": "2021-03-28T14:52:04.442545Z",
     "shell.execute_reply": "2021-03-28T14:52:04.441924Z"
    },
    "papermill": {
     "duration": 0.400489,
     "end_time": "2021-03-28T14:52:04.442704",
     "exception": false,
     "start_time": "2021-03-28T14:52:04.042215",
     "status": "completed"
    },
    "tags": []
   },
   "outputs": [],
   "source": [
    "import xgboost as xgb"
   ]
  },
  {
   "cell_type": "code",
   "execution_count": 61,
   "metadata": {
    "execution": {
     "iopub.execute_input": "2021-03-28T14:52:04.591520Z",
     "iopub.status.busy": "2021-03-28T14:52:04.590779Z",
     "iopub.status.idle": "2021-03-28T14:52:04.593608Z",
     "shell.execute_reply": "2021-03-28T14:52:04.594160Z"
    },
    "papermill": {
     "duration": 0.080116,
     "end_time": "2021-03-28T14:52:04.594351",
     "exception": false,
     "start_time": "2021-03-28T14:52:04.514235",
     "status": "completed"
    },
    "tags": []
   },
   "outputs": [],
   "source": [
    "xgb = xgb.XGBRegressor(n_estimators=100, learning_rate=0.08, gamma=0, subsample=0.75,\n",
    "                           colsample_bytree=1, max_depth=7)"
   ]
  },
  {
   "cell_type": "code",
   "execution_count": 62,
   "metadata": {
    "execution": {
     "iopub.execute_input": "2021-03-28T14:52:04.742477Z",
     "iopub.status.busy": "2021-03-28T14:52:04.741784Z",
     "iopub.status.idle": "2021-03-28T14:52:06.540052Z",
     "shell.execute_reply": "2021-03-28T14:52:06.539283Z"
    },
    "papermill": {
     "duration": 1.874151,
     "end_time": "2021-03-28T14:52:06.540226",
     "exception": false,
     "start_time": "2021-03-28T14:52:04.666075",
     "status": "completed"
    },
    "tags": []
   },
   "outputs": [
    {
     "data": {
      "text/plain": [
       "XGBRegressor(base_score=0.5, booster='gbtree', colsample_bylevel=1,\n",
       "             colsample_bynode=1, colsample_bytree=1, gamma=0, gpu_id=-1,\n",
       "             importance_type='gain', interaction_constraints='',\n",
       "             learning_rate=0.08, max_delta_step=0, max_depth=7,\n",
       "             min_child_weight=1, missing=nan, monotone_constraints='()',\n",
       "             n_estimators=100, n_jobs=4, num_parallel_tree=1, random_state=0,\n",
       "             reg_alpha=0, reg_lambda=1, scale_pos_weight=1, subsample=0.75,\n",
       "             tree_method='exact', validate_parameters=1, verbosity=None)"
      ]
     },
     "execution_count": 62,
     "metadata": {},
     "output_type": "execute_result"
    }
   ],
   "source": [
    "xgb.fit(X1_train,y_train)"
   ]
  },
  {
   "cell_type": "code",
   "execution_count": 63,
   "metadata": {
    "execution": {
     "iopub.execute_input": "2021-03-28T14:52:06.725751Z",
     "iopub.status.busy": "2021-03-28T14:52:06.725049Z",
     "iopub.status.idle": "2021-03-28T14:52:08.684174Z",
     "shell.execute_reply": "2021-03-28T14:52:08.684857Z"
    },
    "papermill": {
     "duration": 2.072206,
     "end_time": "2021-03-28T14:52:08.685134",
     "exception": false,
     "start_time": "2021-03-28T14:52:06.612928",
     "status": "completed"
    },
    "tags": []
   },
   "outputs": [
    {
     "data": {
      "text/plain": [
       "XGBRegressor(base_score=0.5, booster='gbtree', colsample_bylevel=1,\n",
       "             colsample_bynode=1, colsample_bytree=1, gamma=0, gpu_id=-1,\n",
       "             importance_type='gain', interaction_constraints='',\n",
       "             learning_rate=0.08, max_delta_step=0, max_depth=7,\n",
       "             min_child_weight=1, missing=nan, monotone_constraints='()',\n",
       "             n_estimators=100, n_jobs=4, num_parallel_tree=1, random_state=0,\n",
       "             reg_alpha=0, reg_lambda=1, scale_pos_weight=1, subsample=0.75,\n",
       "             tree_method='exact', validate_parameters=1, verbosity=None)"
      ]
     },
     "execution_count": 63,
     "metadata": {},
     "output_type": "execute_result"
    }
   ],
   "source": [
    "xgb.fit(X1_train,y_train)"
   ]
  },
  {
   "cell_type": "code",
   "execution_count": 64,
   "metadata": {
    "execution": {
     "iopub.execute_input": "2021-03-28T14:52:08.854900Z",
     "iopub.status.busy": "2021-03-28T14:52:08.854169Z",
     "iopub.status.idle": "2021-03-28T14:52:08.915713Z",
     "shell.execute_reply": "2021-03-28T14:52:08.916324Z"
    },
    "papermill": {
     "duration": 0.154096,
     "end_time": "2021-03-28T14:52:08.916531",
     "exception": false,
     "start_time": "2021-03-28T14:52:08.762435",
     "status": "completed"
    },
    "tags": []
   },
   "outputs": [],
   "source": [
    "predictions = xgb.predict(X1_test)\n",
    "score1 = r2_score(y_test,predictions)"
   ]
  },
  {
   "cell_type": "code",
   "execution_count": 65,
   "metadata": {
    "execution": {
     "iopub.execute_input": "2021-03-28T14:52:09.076333Z",
     "iopub.status.busy": "2021-03-28T14:52:09.075425Z",
     "iopub.status.idle": "2021-03-28T14:52:09.079069Z",
     "shell.execute_reply": "2021-03-28T14:52:09.079544Z"
    },
    "papermill": {
     "duration": 0.087276,
     "end_time": "2021-03-28T14:52:09.079722",
     "exception": false,
     "start_time": "2021-03-28T14:52:08.992446",
     "status": "completed"
    },
    "tags": []
   },
   "outputs": [
    {
     "data": {
      "text/plain": [
       "0.879374467148369"
      ]
     },
     "execution_count": 65,
     "metadata": {},
     "output_type": "execute_result"
    }
   ],
   "source": [
    "score1"
   ]
  },
  {
   "cell_type": "code",
   "execution_count": 66,
   "metadata": {
    "execution": {
     "iopub.execute_input": "2021-03-28T14:52:09.230914Z",
     "iopub.status.busy": "2021-03-28T14:52:09.229934Z",
     "iopub.status.idle": "2021-03-28T14:52:09.233824Z",
     "shell.execute_reply": "2021-03-28T14:52:09.234313Z"
    },
    "papermill": {
     "duration": 0.081505,
     "end_time": "2021-03-28T14:52:09.234513",
     "exception": false,
     "start_time": "2021-03-28T14:52:09.153008",
     "status": "completed"
    },
    "tags": []
   },
   "outputs": [],
   "source": [
    "# Lets do cross-validation"
   ]
  },
  {
   "cell_type": "code",
   "execution_count": 67,
   "metadata": {
    "execution": {
     "iopub.execute_input": "2021-03-28T14:52:09.386014Z",
     "iopub.status.busy": "2021-03-28T14:52:09.385000Z",
     "iopub.status.idle": "2021-03-28T14:52:09.390521Z",
     "shell.execute_reply": "2021-03-28T14:52:09.389759Z"
    },
    "papermill": {
     "duration": 0.0818,
     "end_time": "2021-03-28T14:52:09.390688",
     "exception": false,
     "start_time": "2021-03-28T14:52:09.308888",
     "status": "completed"
    },
    "tags": []
   },
   "outputs": [],
   "source": [
    "from sklearn.model_selection import cross_val_score"
   ]
  },
  {
   "cell_type": "code",
   "execution_count": 68,
   "metadata": {
    "execution": {
     "iopub.execute_input": "2021-03-28T14:52:09.544461Z",
     "iopub.status.busy": "2021-03-28T14:52:09.543447Z",
     "iopub.status.idle": "2021-03-28T14:53:14.467410Z",
     "shell.execute_reply": "2021-03-28T14:53:14.467965Z"
    },
    "papermill": {
     "duration": 65.003437,
     "end_time": "2021-03-28T14:53:14.468175",
     "exception": false,
     "start_time": "2021-03-28T14:52:09.464738",
     "status": "completed"
    },
    "tags": []
   },
   "outputs": [
    {
     "data": {
      "text/plain": [
       "0.8807825587786046"
      ]
     },
     "execution_count": 68,
     "metadata": {},
     "output_type": "execute_result"
    }
   ],
   "source": [
    "cross_val_score(xgb, X_s,y, cv =30).mean()"
   ]
  },
  {
   "cell_type": "code",
   "execution_count": 69,
   "metadata": {
    "execution": {
     "iopub.execute_input": "2021-03-28T14:53:14.630955Z",
     "iopub.status.busy": "2021-03-28T14:53:14.629939Z",
     "iopub.status.idle": "2021-03-28T14:53:14.633572Z",
     "shell.execute_reply": "2021-03-28T14:53:14.632984Z"
    },
    "papermill": {
     "duration": 0.084341,
     "end_time": "2021-03-28T14:53:14.633728",
     "exception": false,
     "start_time": "2021-03-28T14:53:14.549387",
     "status": "completed"
    },
    "tags": []
   },
   "outputs": [],
   "source": [
    "# Thank you, long live Kaggle!"
   ]
  }
 ],
 "metadata": {
  "kernelspec": {
   "display_name": "Python 3.9.6 64-bit",
   "language": "python",
   "name": "python3"
  },
  "language_info": {
   "codemirror_mode": {
    "name": "ipython",
    "version": 3
   },
   "file_extension": ".py",
   "mimetype": "text/x-python",
   "name": "python",
   "nbconvert_exporter": "python",
   "pygments_lexer": "ipython3",
   "version": "3.9.6"
  },
  "papermill": {
   "default_parameters": {},
   "duration": 91.500551,
   "end_time": "2021-03-28T14:53:15.418719",
   "environment_variables": {},
   "exception": null,
   "input_path": "__notebook__.ipynb",
   "output_path": "__notebook__.ipynb",
   "parameters": {},
   "start_time": "2021-03-28T14:51:43.918168",
   "version": "2.2.2"
  },
  "vscode": {
   "interpreter": {
    "hash": "aee8b7b246df8f9039afb4144a1f6fd8d2ca17a180786b69acc140d282b71a49"
   }
  }
 },
 "nbformat": 4,
 "nbformat_minor": 4
}
